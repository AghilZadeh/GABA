{
 "cells": [
  {
   "cell_type": "markdown",
   "metadata": {},
   "source": [
    "### Libraries"
   ]
  },
  {
   "cell_type": "code",
   "execution_count": 1,
   "metadata": {},
   "outputs": [],
   "source": [
    "import numpy as np\n",
    "import seaborn as sns\n",
    "from matplotlib import pyplot as plt\n",
    "from matplotlib.lines import Line2D\n",
    "from tqdm import tqdm_notebook as tqdm\n",
    "from matplotlib import rc\n",
    "import scipy\n",
    "\n",
    "font = {'family' : 'normal',\n",
    "        'weight' : 'normal',\n",
    "        'size'   : 12}\n",
    "\n",
    "rc('font', **font)"
   ]
  },
  {
   "cell_type": "markdown",
   "metadata": {},
   "source": [
    "### Parameters"
   ]
  },
  {
   "cell_type": "code",
   "execution_count": 2,
   "metadata": {},
   "outputs": [],
   "source": [
    "#~~~~~~~~~~~~~~~~~~~~~~~~~~~~~~~~~~~~~~~~~~~~~~~~~~~~~~~~~~~~~~~~~~~~~~~~~~~~~~~~~~~~~~~~~~~~~~~~~~~~~~~~~#\n",
    "#~~~~~~~~~~~~~~~~~~~~~~~~~~~~~~~~~~~~~~!All needed to be defined!~~~~~~~~~~~~~~~~~~~~~~~~~~~~~~~~~~~~~~~~~#\n",
    "\n",
    "dt = 0.1    # update time scale (ms)\n",
    "time = 1000  # ms \n",
    "#~~~#\n",
    "iterations = int(time/dt)\n",
    "timearray = np.linspace(0, time, iterations)\n",
    "\n",
    "\n",
    "\n",
    "class Population:\n",
    "    # Populations properties adapted from Gittis et al. 2010 & Taverna et al. 2008 \n",
    "\n",
    "    Tag      =     {\"FSI\":0, \"dSPN\":1, \"iSPN\":2}        # number labels starting from 0\n",
    "    #NN       =     np.array([20, 490, 490])             # neuron numbers\n",
    "    NN       =     np.array([20, 490, 490])             # neuron numbers\n",
    "    #RP       =     np.array([0, 0, 0])                  # refractory period\n",
    "    #NN       =     np.array([1, 1, 1])             # neuron numbers\n",
    "    \n",
    "    \n",
    "    # single neuron parameters\n",
    "    TM   = np.array([20, 20, 20])  # membrame time constant (ms)\n",
    "    ## reversal potentails\n",
    "    V_L = np.array([-70., -80., -80.])  # Leak current reversal potential (mv)\n",
    "    V_R = np.array([-70., -70., -70.])  # reset potential after a spike (mv)\n",
    "    V_T = np.array([-60., -60., -60.])  # reset threshold potential (mv)\n",
    "    V_I = np.array([-80., -61., -61.])  # GABA current reversal potential (mv)\n",
    "    V_E = np.array([0., 0., 0.])        # Glu current reversal potential (mv)\n",
    "   \n",
    "    \n",
    "    # synaptic connectivity parameters of populations (from column to rows)\n",
    "    CP       =     np.array([[0.58, 0 ,0],\n",
    "                             [0.53, 0.26, 0.27], \n",
    "                             [0.36, 0.06, 0.36]])             # connectivity probabilities\n",
    "    CW       =     np.array([[0.6, 0, 0],\n",
    "                             [5, 0.4, 1.3], \n",
    "                             [5, 1.1, 1.1]])             # connectivity weigths (mv.ms/spike), positive is inhibitory\n",
    "    mod = 0.1\n",
    "    CW = mod*CW\n",
    "    \n",
    "    ## gaba\n",
    "    TR = np.array([1.5, 1.5, 1.5])   # rise time of GABA conductance dynamics (ms)\n",
    "    TD = np.array([20., 20., 20.])   # decay time of GABA conductance dynamics (ms)\n",
    "    \n",
    "    # inputs\n",
    "    Ix_mean = np.array([0, 0, 0])  # mean excitatory input (pA)\n",
    "    Ix_rate = np.array([400, 400, 400])  # rate of spikesin input (Hz)   \n",
    "    \n",
    "    \n",
    "    #~~~~~~~~~~~~~~~~~~~~~~~~~~~~~~~~~~~~~~~~~~~~~~~~~~~~~~~~~~~~~~~~~~~~~~~~~~~~~~~~~~~~~~~~~~~~~~~~~~~~~#\n",
    "    # to be calculated using mean dynamics of population\n",
    "    MeanSpikeRate  =   np.array([0, 0, 0])              # mean spike count for each population for the whole time series\n",
    "    SpikeRate  =   []                                   # spike rate time series in dt bins of populations\n",
    "    \n",
    "    # others\n",
    "    Colors   =     np.array([[1, 0, 0],\n",
    "                             [0, 1, 0],\n",
    "                             [0, 0, 1]])                # colors for plots\n",
    "    size = len(NN)\n",
    "\n",
    "#~~~~~~~~~~~~~~~~~~~~~~~~~~~~~~~~~~~~~~~~~~~~~~~~~~~~~~~~~~~~~~~~~~~~~~~~~~~~~~~~~~~~~~~~~~~~~~~~~~~~~~~~~#\n",
    "#~~~~~~~~~~~~~~~~~~~~~~~~~~~~~~~~~~~~~~~~~~~~~~~~~~~~~~~~~~~~~~~~~~~~~~~~~~~~~~~~~~~~~~~~~~~~~~~~~~~~~~~~~#"
   ]
  },
  {
   "cell_type": "markdown",
   "metadata": {},
   "source": [
    "### Synaptic Connectivity"
   ]
  },
  {
   "cell_type": "code",
   "execution_count": 3,
   "metadata": {},
   "outputs": [],
   "source": [
    "def create_Wmat(NN, CP, CW):\n",
    "    '''\n",
    "    returns a random weighted connectivity matrix of several \n",
    "    neuronal populations with 'NN' as list of neuron population\n",
    "    numbers, 'CP' as connectivity probability matrix and 'CW'\n",
    "    as connectivity weight matrix on the population level.\n",
    "    '''\n",
    "    nntotal = np.sum(NN) # total number of neurons\n",
    "    npopulation = len(NN) # number of populations \n",
    "    \n",
    "    \n",
    "    Wmat = np.array([]) \n",
    "    for ind1 in range(npopulation):        \n",
    "        Rowblock = np.array([])\n",
    "        for ind2 in range(npopulation):\n",
    "            # creating weighted connectivity matrix block \n",
    "            # of population ind2 to ind1  \n",
    "            w = CW[ind1, ind2]\n",
    "            Size = (NN[ind1], NN[ind2]) \n",
    "            Prob = [CP[ind1, ind2], 1-CP[ind1, ind2]] # connection probability\n",
    "            Block = np.random.choice([1, 0], Size, p=Prob)*w # individual block\n",
    "            Rowblock = np.concatenate((Rowblock, Block), axis=1) if Rowblock.size else Block\n",
    "        Wmat = np.concatenate((Wmat, Rowblock), axis=0) if Wmat.size else Rowblock\n",
    "    \n",
    "    return(Wmat)\n"
   ]
  },
  {
   "cell_type": "markdown",
   "metadata": {},
   "source": [
    "### Neuron's Variables"
   ]
  },
  {
   "cell_type": "code",
   "execution_count": 4,
   "metadata": {},
   "outputs": [],
   "source": [
    "#==============================================================================#\n",
    "                              # Neuron Properties #\n",
    "class Neuron:\n",
    "    Tag     =     np.array([i for i in range(Population.NN.size) for j in range(Population.NN[i])]) # Neuron tag\n",
    "    Colors  =     np.array([Population.Colors[i] for i in Tag])    # colors for plots\n",
    "    Time    =     []\n",
    "    \n",
    "    # single neuron parameters\n",
    "    TM   = np.array([Population.TM[i] for i in Tag])    # membrame time constant\n",
    "    #RP   = np.array([Population.RP[i] for i in Tag])    # refractory period\n",
    "    ## reversal potentails\n",
    "    V_L = np.array([Population.V_L[i] for i in Tag])  # Leak current reversal potential (mv)\n",
    "    V_R = np.array([Population.V_R[i] for i in Tag])  # reset potential after a spike (mv)\n",
    "    V_T = np.array([Population.V_T[i] for i in Tag])  # reset threshold potential (mv)\n",
    "    V_I = np.array([Population.V_I[i] for i in Tag])  # GABA current reversal potential (mv)\n",
    "    V_E = np.array([Population.V_E[i] for i in Tag])  # Glu current reversal potential (mv)\n",
    "    \n",
    "    ## synaptic time scales\n",
    "    TD      = np.array([Population.TD[i] for i in Tag])     # decay time scale of IPSC\n",
    "    TR      = np.array([Population.TR[i] for i in Tag])     # rise time scale of IPSC\n",
    "    \n",
    "    \n",
    "    # synaptic parameters\n",
    "    Wmat    =     create_Wmat(Population.NN, Population.CP, Population.CW)  # weighted connectivity matrix\n",
    "    Cmat    =     np.where(Wmat!=0, 1, 0)                                   # connectivity matrix\n",
    "    \n",
    "    #excitatory inputs\n",
    "    Ix_mean =     np.array([Population.Ix_mean[i] for i in Tag])  # mean excitatory input (pA)\n",
    "    Ix_rate =     np.array([Population.Ix_rate[i] for i in Tag])  # rate of spikesin input (Hz)   \n",
    "    \n",
    "    # initial conditions (and variables which change in time)\n",
    "    Spike   =     np.zeros(Tag.size, dtype=bool)                 # spike train array [boolean]\n",
    "    V       =     np.array([Population.V_L[i] for i in Tag])     # initial conditions [at rest] (mv)\n",
    "    N       =     np.zeros(Tag.size)                             # opening gates parameter  \n",
    "    S       =     np.zeros(Tag.size)                             # synaptic input current parameter\n",
    "    \n",
    "    Isyn    =     np.zeros(Tag.size)        # synaptic currents (IPSC) (pA)\n",
    "    Ix      =     np.zeros(Tag.size)        # external currents (EPSC) (pA)\n",
    "    \n",
    "    # to be calculated\n",
    "    SpikeCount        =   np.zeros(Tag.size)                     # number of spikes for each neuron during the simulation\n"
   ]
  },
  {
   "cell_type": "markdown",
   "metadata": {},
   "source": [
    "### Excitatory Input (EPSC)"
   ]
  },
  {
   "cell_type": "code",
   "execution_count": 5,
   "metadata": {
    "scrolled": true
   },
   "outputs": [],
   "source": [
    "def poisson_spikes(mean_curr, rate, decaytime=5.6):\n",
    "    'returns EPSC input with given mean current amplitude, spike rate (hz) and decaytime (ms)'\n",
    "    global dt\n",
    "    global time\n",
    "    global timearray\n",
    "    \n",
    "    N = time/1000.*rate                         # mean number of spikes in the spike train\n",
    "    p = N/len(timearray)                        # probability of spike in each time point\n",
    "    \n",
    "    timewindow = 100. # wavelet time window (ms)\n",
    "    wavelet_t = np.linspace(0, timewindow, num=int(timewindow/dt))\n",
    "    width = decaytime/1000 # in seconds\n",
    "    curr_amp = mean_curr/(rate*width)\n",
    "    wavelet = curr_amp * np.exp(-wavelet_t/decaytime)\n",
    "    \n",
    "    spks = (np.random.rand(len(timearray)+len(wavelet_t)-1) < p) # spike train\n",
    "    EPSC = np.convolve(spks, wavelet, 'valid')                 # post synaptic currents  \n",
    "    return EPSC\n",
    "\n",
    "\n",
    "# EPSC in time for all neurons\n",
    "#GluIn_mat = np.zeros((Neuron.Tag.size, iterations))\n",
    "#for ind in range(Neuron.Tag.size):\n",
    "#    GluIn_mat[ind, :] = poisson_spikes(Neuron.Ix_mean[ind], Neuron.Ix_rate[ind])\n",
    "\n"
   ]
  },
  {
   "cell_type": "markdown",
   "metadata": {},
   "source": [
    "### Dynamics"
   ]
  },
  {
   "cell_type": "code",
   "execution_count": 6,
   "metadata": {},
   "outputs": [],
   "source": [
    "#==============================================================================#\n",
    "                                  # Dynamics #\n",
    "\n",
    "def update_neuron(v, n, s, gabain, gluin, tm, v_R, v_L, v_I, v_E, v_T, td, tr):\n",
    "    global dt\n",
    "    \n",
    "    #update current (s,n)\n",
    "    dn = -n*dt/td\n",
    "    n += dn\n",
    "    ds = (-s + n)*dt/tr\n",
    "    s += ds\n",
    "        \n",
    "    # update v, spike\n",
    "    if v>v_T:\n",
    "        spike = True\n",
    "        v = v_R\n",
    "        n += 1\n",
    "    else:\n",
    "        spike = False\n",
    "        dv = (dt/tm) * (\\\n",
    "                        - (v-v_L)  \\\n",
    "                        - gabain * (v-v_I) \\\n",
    "                        - gluin * (v-v_E)\\\n",
    "                      );  \n",
    "        v += dv\n",
    "    return(spike, v, n, s)\n",
    "\n",
    "vec_update_neuron = np.vectorize(update_neuron)\n",
    "\n",
    "def updateNeuron():\n",
    "    global Neuron\n",
    "    (Neuron.Spike, Neuron.V, Neuron.N, Neuron.S) = vec_update_neuron(\n",
    "            Neuron.V,\n",
    "            Neuron.N,\n",
    "            Neuron.S,\n",
    "            Neuron.Isyn,\n",
    "            Neuron.Ix,\n",
    "            Neuron.TM,\n",
    "            Neuron.V_R,\n",
    "            Neuron.V_L,\n",
    "            Neuron.V_I,\n",
    "            Neuron.V_E,\n",
    "            Neuron.V_T,\n",
    "            Neuron.TD,\n",
    "            Neuron.TR\n",
    "                        );\n",
    "\n",
    "\n",
    "## produce synaptic currents from s\n",
    "def updateSyn():\n",
    "    global Neuron\n",
    "    Neuron.Isyn = np.matmul(Neuron.Wmat, Neuron.S)     \n",
    "    "
   ]
  },
  {
   "cell_type": "markdown",
   "metadata": {},
   "source": [
    "### Analytics"
   ]
  },
  {
   "cell_type": "code",
   "execution_count": 7,
   "metadata": {},
   "outputs": [],
   "source": [
    "#==============================================================================#\n",
    "                                  # Analysis #\n",
    "\n",
    "def vec_cv(SpikeRate):\n",
    "    \"returns an array showing the CV(sigma/mean) of each row of SpikeRate\"\n",
    "    CV = np.array([])\n",
    "    for i in range(SpikeRate.shape[0]):\n",
    "        spikeRate = SpikeRate[i, :]\n",
    "        cv = np.std(spikeRate)/np.mean(spikeRate)\n",
    "        CV = np.append(CV, cv)\n",
    "    return CV\n",
    "\n",
    "def vec_meanrate(SpikeRate):\n",
    "    'returns an array showing the mean rate of each row of SpikeRate in Hz'\n",
    "    Meanrate = np.array([])\n",
    "    for i in range(SpikeRate.shape[0]):\n",
    "        spikeRate = SpikeRate[i, :]\n",
    "        meanrate = np.mean(spikeRate)*1000\n",
    "        Meanrate = np.append(Meanrate, meanrate)\n",
    "    return Meanrate\n",
    "\n",
    "def crosscorr(timeseries1, timeseries2):\n",
    "    'returns an array representing the cross correlation of normalized timeseries, normalized by length of overlap'\n",
    "    a = (np.array(timeseries1)-np.mean(timeseries1))/np.std(timeseries1)\n",
    "    b = (np.array(timeseries2)-np.mean(timeseries2))/np.std(timeseries2)\n",
    "    lag = np.arange(-len(b) + 1, len(a))\n",
    "    correlation = np.correlate(a, b, \"full\")\n",
    "    overlap = np.correlate(np.ones(len(a)), np.ones(len(b)), \"full\")\n",
    "    normalized_crosscorr = correlation/overlap\n",
    "    return(lag, normalized_crosscorr)\n",
    "    \n",
    "    \n",
    "def vec_autocorr(SpikeRate):\n",
    "    'returns an array showing the auto-correlation time series of each row of SpikeRate'\n",
    "    for i in range(SpikeRate.shape[0]):\n",
    "        spikeRate = SpikeRate[i, :]\n",
    "        lag, autocorr = crosscorr(spikeRate, spikeRate)\n",
    "        Autocorr = np.vstack((Autocorr, autocorr)) if i!=0 else autocorr\n",
    "    return(lag, Autocorr)    \n",
    "\n",
    "\n",
    "\n",
    "#==============================================================================#\n",
    "                                  # Plots #\n",
    "    \n",
    "def create_monitorind(Pop_monitor_number):\n",
    "    ''' \n",
    "    returns randomly chosen indices from different populations \n",
    "    with 'Pop_monitor_number' as an array of population size.\n",
    "    Example: Pop_monitor_number = [20, 20, 10]\n",
    "    '''\n",
    "    monitor_ind = np.empty(0, dtype=int)\n",
    "    cumnum = np.insert(np.cumsum(Population.NN), 0, 0)\n",
    "    for i, number in enumerate(Pop_monitor_number):\n",
    "        interval = range(cumnum[i], cumnum[i+1])\n",
    "        rand_ind = np.random.choice(interval, number, replace=False)\n",
    "        monitor_ind = np.concatenate((monitor_ind, rand_ind))\n",
    "        sorted_monitor_ind = np.sort(monitor_ind)\n",
    "    return sorted_monitor_ind\n",
    "\n",
    "def rasterplot(monitorSpiketime, monitor_ind):\n",
    "    colors = Neuron.Colors[monitor_ind]\n",
    "    yticks = np.arange(len(monitor_ind))\n",
    "    \n",
    "    fig, axs = plt.subplots(1,1)\n",
    "    axs.eventplot(monitorSpiketime, colors=colors, linelengths = 0.9)\n",
    "    #plt.yticks(yticks, monitor_ind)\n",
    "    plt.xlabel('time (ms)')\n",
    "    plt.ylabel('neuron no.')\n",
    "    \n",
    "    # line above the mean plot\n",
    "    MeanRate = np.around(Population.MeanSpikeRate, decimals=1).astype(str)\n",
    "    Tags = list(Population.Tag)\n",
    "    Labels = [Tags[i]+':'+MeanRate[i]+'Hz' for i in range(Population.size)]\n",
    "    custom_lines = [Line2D([0], [0], color=Population.Colors[ind], lw=4) for ind in range(Population.size)]\n",
    "    axs.legend(custom_lines, Labels, bbox_to_anchor=(0., 1.0, 1., .10), loc=3,ncol=3, mode=\"expand\", borderaxespad=0.)\n",
    "    plt.show()\n",
    "\n",
    "def meanplot(SpikeRate, Time):\n",
    "    fig, axs = plt.subplots(1,1)\n",
    "    for i, color in list(enumerate(Population.Colors)):\n",
    "        plt.plot(Time, SpikeRate[i, :], color=color)\n",
    "    plt.xlabel('time (ms)')\n",
    "    plt.ylabel('mean spike density of populations (1/ms)')\n",
    "    # line above the mean plot\n",
    "    custom_lines = [Line2D([0], [0], color=Population.Colors[ind], lw=4) for ind in range(Population.size)]\n",
    "    MeanRate = np.around(Population.MeanSpikeRate, decimals=1).astype(str)\n",
    "    Tags = list(Population.Tag)\n",
    "    Labels = [Tags[i]+':'+MeanRate[i]+'Hz' for i in range(Population.size)]\n",
    "    axs.legend(custom_lines, Labels, bbox_to_anchor=(0., 1.0, 1., .10), loc=3,ncol=3, mode=\"expand\", borderaxespad=0.)\n",
    "    plt.show()   \n",
    "\n",
    "    \n",
    "#==============================================================================#\n",
    "                                 # Simulation #\n",
    "\n",
    "#### run simulation ####    \n",
    "def rundynamics(endtime, Ix_mat=0, monitor_ind=[]):\n",
    "    '''\n",
    "    runs a simulation of 'Neuron' with initial voltages 'V' in 'Neuron' \n",
    "    (which is a numpy array with a size of neuronnumbers), 'endtime' \n",
    "    as the final time in ms, and 'monitor_ind' as a list of indices \n",
    "    for which the spikes and voltages are recorded.\n",
    "    '''\n",
    "    global Neuron\n",
    "    iterations = round(endtime/dt)\n",
    "    Neuron.Time = np.linspace(0, endtime, iterations) # time array\n",
    "    \n",
    "    monitorsize = len(monitor_ind)\n",
    "    monitorV = np.zeros((monitorsize, iterations))\n",
    "    monitorSpike = np.zeros((monitorsize, iterations), dtype=bool)\n",
    "    monitorSpiketime = [0]*monitorsize\n",
    "    \n",
    "    SpikeRate = np.zeros((Population.size, iterations))\n",
    "    Neuron.SpikeCount = np.zeros(Neuron.Tag.size)\n",
    "    #if Ix_mat.all(): \n",
    "    #    Ix_mat = np.zeros((Neuron.Tag.size, iterations))\n",
    "    \n",
    "    \n",
    "    for ind in tqdm(range(iterations)):\n",
    "        Neuron.Ix = Ix_mat[:,ind]\n",
    "        updateNeuron()\n",
    "        updateSyn()\n",
    "        \n",
    "        monitorV[:, ind] = Neuron.V[monitor_ind]  # monitoring volatage\n",
    "        Spiked = Neuron.Spike[monitor_ind]   # boolean array of spike for monitored neurons  \n",
    "        monitorSpike[:, ind] = Spiked  # monitoring spike\n",
    "        monitorV[Spiked, ind-1] = 20 # setting spike voltage for those spiked\n",
    "        # average spike activities of populations\n",
    "        spike_mean = [np.mean(Neuron.Spike[Neuron.Tag==i]*1) for i in range(Population.size)]\n",
    "        SpikeRate[:, ind] = np.divide(spike_mean, dt)  # normalizing to get density\n",
    "        Neuron.SpikeCount += Neuron.Spike\n",
    "        \n",
    "        \n",
    "    for ind in range(monitorsize):\n",
    "        monitorSpiketime[ind] = Neuron.Time[monitorSpike[ind, :]]\n",
    "        \n",
    "    Population.SpikeRate = SpikeRate\n",
    "    Population.MeanSpikeRate = vec_meanrate(SpikeRate)\n",
    "            \n",
    "    return monitorSpiketime, monitorSpike, monitorV\n",
    "\n",
    "#### run simulation and plot #### \n",
    "def run_plot(endtime, Ix_mat=0, monitor_ind=[]):\n",
    "    (monitorSpiketime, monitorSpike, monitorV) = rundynamics(endtime, Ix_mat, monitor_ind)\n",
    "    rasterplot(monitorSpiketime, monitor_ind)\n",
    "    #meanplot(Population.SpikeRate, Neuron.Time)\n",
    "        "
   ]
  },
  {
   "cell_type": "markdown",
   "metadata": {},
   "source": [
    "## Simulations"
   ]
  },
  {
   "cell_type": "markdown",
   "metadata": {},
   "source": [
    "N = 1000\n",
    "vi = -61 mV\n",
    "\n",
    "for mod = 1 & freq=400\n",
    "Ix_mean_pop = [0.38,0.40,0.38]\n",
    "\n",
    "for mod = 0.1 & freq=400\n",
    "Ix_mean_pop = [0.17,0.21,0.21]\n",
    "\n",
    "for mod = 0.1 & freq=1000\n",
    "Ix_mean_pop = [0.19,0.24,0.24]\n",
    "\n",
    "N = 2000\n",
    "vi = -61 mV\n",
    "\n",
    "for mod = 0.1 & freq=400\n",
    "Ix_mean_pop = [0.24,0.24,0.24]\n",
    "\n",
    "N = 10,000\n",
    "vi = -61 mV\n",
    "\n",
    "for mod = 0.1 & freq=400\n",
    "Ix_mean_pop = [0.48,0.31,0.29]\n"
   ]
  },
  {
   "cell_type": "code",
   "execution_count": 29,
   "metadata": {},
   "outputs": [
    {
     "data": {
      "application/vnd.jupyter.widget-view+json": {
       "model_id": "8bff733b184c420f85fe26819ac73080",
       "version_major": 2,
       "version_minor": 0
      },
      "text/plain": [
       "HBox(children=(IntProgress(value=0, max=10000), HTML(value='')))"
      ]
     },
     "metadata": {},
     "output_type": "display_data"
    },
    {
     "name": "stdout",
     "output_type": "stream",
     "text": [
      "\n"
     ]
    },
    {
     "data": {
      "application/javascript": [
       "/* Put everything inside the global mpl namespace */\n",
       "window.mpl = {};\n",
       "\n",
       "\n",
       "mpl.get_websocket_type = function() {\n",
       "    if (typeof(WebSocket) !== 'undefined') {\n",
       "        return WebSocket;\n",
       "    } else if (typeof(MozWebSocket) !== 'undefined') {\n",
       "        return MozWebSocket;\n",
       "    } else {\n",
       "        alert('Your browser does not have WebSocket support. ' +\n",
       "              'Please try Chrome, Safari or Firefox ≥ 6. ' +\n",
       "              'Firefox 4 and 5 are also supported but you ' +\n",
       "              'have to enable WebSockets in about:config.');\n",
       "    };\n",
       "}\n",
       "\n",
       "mpl.figure = function(figure_id, websocket, ondownload, parent_element) {\n",
       "    this.id = figure_id;\n",
       "\n",
       "    this.ws = websocket;\n",
       "\n",
       "    this.supports_binary = (this.ws.binaryType != undefined);\n",
       "\n",
       "    if (!this.supports_binary) {\n",
       "        var warnings = document.getElementById(\"mpl-warnings\");\n",
       "        if (warnings) {\n",
       "            warnings.style.display = 'block';\n",
       "            warnings.textContent = (\n",
       "                \"This browser does not support binary websocket messages. \" +\n",
       "                    \"Performance may be slow.\");\n",
       "        }\n",
       "    }\n",
       "\n",
       "    this.imageObj = new Image();\n",
       "\n",
       "    this.context = undefined;\n",
       "    this.message = undefined;\n",
       "    this.canvas = undefined;\n",
       "    this.rubberband_canvas = undefined;\n",
       "    this.rubberband_context = undefined;\n",
       "    this.format_dropdown = undefined;\n",
       "\n",
       "    this.image_mode = 'full';\n",
       "\n",
       "    this.root = $('<div/>');\n",
       "    this._root_extra_style(this.root)\n",
       "    this.root.attr('style', 'display: inline-block');\n",
       "\n",
       "    $(parent_element).append(this.root);\n",
       "\n",
       "    this._init_header(this);\n",
       "    this._init_canvas(this);\n",
       "    this._init_toolbar(this);\n",
       "\n",
       "    var fig = this;\n",
       "\n",
       "    this.waiting = false;\n",
       "\n",
       "    this.ws.onopen =  function () {\n",
       "            fig.send_message(\"supports_binary\", {value: fig.supports_binary});\n",
       "            fig.send_message(\"send_image_mode\", {});\n",
       "            if (mpl.ratio != 1) {\n",
       "                fig.send_message(\"set_dpi_ratio\", {'dpi_ratio': mpl.ratio});\n",
       "            }\n",
       "            fig.send_message(\"refresh\", {});\n",
       "        }\n",
       "\n",
       "    this.imageObj.onload = function() {\n",
       "            if (fig.image_mode == 'full') {\n",
       "                // Full images could contain transparency (where diff images\n",
       "                // almost always do), so we need to clear the canvas so that\n",
       "                // there is no ghosting.\n",
       "                fig.context.clearRect(0, 0, fig.canvas.width, fig.canvas.height);\n",
       "            }\n",
       "            fig.context.drawImage(fig.imageObj, 0, 0);\n",
       "        };\n",
       "\n",
       "    this.imageObj.onunload = function() {\n",
       "        fig.ws.close();\n",
       "    }\n",
       "\n",
       "    this.ws.onmessage = this._make_on_message_function(this);\n",
       "\n",
       "    this.ondownload = ondownload;\n",
       "}\n",
       "\n",
       "mpl.figure.prototype._init_header = function() {\n",
       "    var titlebar = $(\n",
       "        '<div class=\"ui-dialog-titlebar ui-widget-header ui-corner-all ' +\n",
       "        'ui-helper-clearfix\"/>');\n",
       "    var titletext = $(\n",
       "        '<div class=\"ui-dialog-title\" style=\"width: 100%; ' +\n",
       "        'text-align: center; padding: 3px;\"/>');\n",
       "    titlebar.append(titletext)\n",
       "    this.root.append(titlebar);\n",
       "    this.header = titletext[0];\n",
       "}\n",
       "\n",
       "\n",
       "\n",
       "mpl.figure.prototype._canvas_extra_style = function(canvas_div) {\n",
       "\n",
       "}\n",
       "\n",
       "\n",
       "mpl.figure.prototype._root_extra_style = function(canvas_div) {\n",
       "\n",
       "}\n",
       "\n",
       "mpl.figure.prototype._init_canvas = function() {\n",
       "    var fig = this;\n",
       "\n",
       "    var canvas_div = $('<div/>');\n",
       "\n",
       "    canvas_div.attr('style', 'position: relative; clear: both; outline: 0');\n",
       "\n",
       "    function canvas_keyboard_event(event) {\n",
       "        return fig.key_event(event, event['data']);\n",
       "    }\n",
       "\n",
       "    canvas_div.keydown('key_press', canvas_keyboard_event);\n",
       "    canvas_div.keyup('key_release', canvas_keyboard_event);\n",
       "    this.canvas_div = canvas_div\n",
       "    this._canvas_extra_style(canvas_div)\n",
       "    this.root.append(canvas_div);\n",
       "\n",
       "    var canvas = $('<canvas/>');\n",
       "    canvas.addClass('mpl-canvas');\n",
       "    canvas.attr('style', \"left: 0; top: 0; z-index: 0; outline: 0\")\n",
       "\n",
       "    this.canvas = canvas[0];\n",
       "    this.context = canvas[0].getContext(\"2d\");\n",
       "\n",
       "    var backingStore = this.context.backingStorePixelRatio ||\n",
       "\tthis.context.webkitBackingStorePixelRatio ||\n",
       "\tthis.context.mozBackingStorePixelRatio ||\n",
       "\tthis.context.msBackingStorePixelRatio ||\n",
       "\tthis.context.oBackingStorePixelRatio ||\n",
       "\tthis.context.backingStorePixelRatio || 1;\n",
       "\n",
       "    mpl.ratio = (window.devicePixelRatio || 1) / backingStore;\n",
       "\n",
       "    var rubberband = $('<canvas/>');\n",
       "    rubberband.attr('style', \"position: absolute; left: 0; top: 0; z-index: 1;\")\n",
       "\n",
       "    var pass_mouse_events = true;\n",
       "\n",
       "    canvas_div.resizable({\n",
       "        start: function(event, ui) {\n",
       "            pass_mouse_events = false;\n",
       "        },\n",
       "        resize: function(event, ui) {\n",
       "            fig.request_resize(ui.size.width, ui.size.height);\n",
       "        },\n",
       "        stop: function(event, ui) {\n",
       "            pass_mouse_events = true;\n",
       "            fig.request_resize(ui.size.width, ui.size.height);\n",
       "        },\n",
       "    });\n",
       "\n",
       "    function mouse_event_fn(event) {\n",
       "        if (pass_mouse_events)\n",
       "            return fig.mouse_event(event, event['data']);\n",
       "    }\n",
       "\n",
       "    rubberband.mousedown('button_press', mouse_event_fn);\n",
       "    rubberband.mouseup('button_release', mouse_event_fn);\n",
       "    // Throttle sequential mouse events to 1 every 20ms.\n",
       "    rubberband.mousemove('motion_notify', mouse_event_fn);\n",
       "\n",
       "    rubberband.mouseenter('figure_enter', mouse_event_fn);\n",
       "    rubberband.mouseleave('figure_leave', mouse_event_fn);\n",
       "\n",
       "    canvas_div.on(\"wheel\", function (event) {\n",
       "        event = event.originalEvent;\n",
       "        event['data'] = 'scroll'\n",
       "        if (event.deltaY < 0) {\n",
       "            event.step = 1;\n",
       "        } else {\n",
       "            event.step = -1;\n",
       "        }\n",
       "        mouse_event_fn(event);\n",
       "    });\n",
       "\n",
       "    canvas_div.append(canvas);\n",
       "    canvas_div.append(rubberband);\n",
       "\n",
       "    this.rubberband = rubberband;\n",
       "    this.rubberband_canvas = rubberband[0];\n",
       "    this.rubberband_context = rubberband[0].getContext(\"2d\");\n",
       "    this.rubberband_context.strokeStyle = \"#000000\";\n",
       "\n",
       "    this._resize_canvas = function(width, height) {\n",
       "        // Keep the size of the canvas, canvas container, and rubber band\n",
       "        // canvas in synch.\n",
       "        canvas_div.css('width', width)\n",
       "        canvas_div.css('height', height)\n",
       "\n",
       "        canvas.attr('width', width * mpl.ratio);\n",
       "        canvas.attr('height', height * mpl.ratio);\n",
       "        canvas.attr('style', 'width: ' + width + 'px; height: ' + height + 'px;');\n",
       "\n",
       "        rubberband.attr('width', width);\n",
       "        rubberband.attr('height', height);\n",
       "    }\n",
       "\n",
       "    // Set the figure to an initial 600x600px, this will subsequently be updated\n",
       "    // upon first draw.\n",
       "    this._resize_canvas(600, 600);\n",
       "\n",
       "    // Disable right mouse context menu.\n",
       "    $(this.rubberband_canvas).bind(\"contextmenu\",function(e){\n",
       "        return false;\n",
       "    });\n",
       "\n",
       "    function set_focus () {\n",
       "        canvas.focus();\n",
       "        canvas_div.focus();\n",
       "    }\n",
       "\n",
       "    window.setTimeout(set_focus, 100);\n",
       "}\n",
       "\n",
       "mpl.figure.prototype._init_toolbar = function() {\n",
       "    var fig = this;\n",
       "\n",
       "    var nav_element = $('<div/>');\n",
       "    nav_element.attr('style', 'width: 100%');\n",
       "    this.root.append(nav_element);\n",
       "\n",
       "    // Define a callback function for later on.\n",
       "    function toolbar_event(event) {\n",
       "        return fig.toolbar_button_onclick(event['data']);\n",
       "    }\n",
       "    function toolbar_mouse_event(event) {\n",
       "        return fig.toolbar_button_onmouseover(event['data']);\n",
       "    }\n",
       "\n",
       "    for(var toolbar_ind in mpl.toolbar_items) {\n",
       "        var name = mpl.toolbar_items[toolbar_ind][0];\n",
       "        var tooltip = mpl.toolbar_items[toolbar_ind][1];\n",
       "        var image = mpl.toolbar_items[toolbar_ind][2];\n",
       "        var method_name = mpl.toolbar_items[toolbar_ind][3];\n",
       "\n",
       "        if (!name) {\n",
       "            // put a spacer in here.\n",
       "            continue;\n",
       "        }\n",
       "        var button = $('<button/>');\n",
       "        button.addClass('ui-button ui-widget ui-state-default ui-corner-all ' +\n",
       "                        'ui-button-icon-only');\n",
       "        button.attr('role', 'button');\n",
       "        button.attr('aria-disabled', 'false');\n",
       "        button.click(method_name, toolbar_event);\n",
       "        button.mouseover(tooltip, toolbar_mouse_event);\n",
       "\n",
       "        var icon_img = $('<span/>');\n",
       "        icon_img.addClass('ui-button-icon-primary ui-icon');\n",
       "        icon_img.addClass(image);\n",
       "        icon_img.addClass('ui-corner-all');\n",
       "\n",
       "        var tooltip_span = $('<span/>');\n",
       "        tooltip_span.addClass('ui-button-text');\n",
       "        tooltip_span.html(tooltip);\n",
       "\n",
       "        button.append(icon_img);\n",
       "        button.append(tooltip_span);\n",
       "\n",
       "        nav_element.append(button);\n",
       "    }\n",
       "\n",
       "    var fmt_picker_span = $('<span/>');\n",
       "\n",
       "    var fmt_picker = $('<select/>');\n",
       "    fmt_picker.addClass('mpl-toolbar-option ui-widget ui-widget-content');\n",
       "    fmt_picker_span.append(fmt_picker);\n",
       "    nav_element.append(fmt_picker_span);\n",
       "    this.format_dropdown = fmt_picker[0];\n",
       "\n",
       "    for (var ind in mpl.extensions) {\n",
       "        var fmt = mpl.extensions[ind];\n",
       "        var option = $(\n",
       "            '<option/>', {selected: fmt === mpl.default_extension}).html(fmt);\n",
       "        fmt_picker.append(option);\n",
       "    }\n",
       "\n",
       "    // Add hover states to the ui-buttons\n",
       "    $( \".ui-button\" ).hover(\n",
       "        function() { $(this).addClass(\"ui-state-hover\");},\n",
       "        function() { $(this).removeClass(\"ui-state-hover\");}\n",
       "    );\n",
       "\n",
       "    var status_bar = $('<span class=\"mpl-message\"/>');\n",
       "    nav_element.append(status_bar);\n",
       "    this.message = status_bar[0];\n",
       "}\n",
       "\n",
       "mpl.figure.prototype.request_resize = function(x_pixels, y_pixels) {\n",
       "    // Request matplotlib to resize the figure. Matplotlib will then trigger a resize in the client,\n",
       "    // which will in turn request a refresh of the image.\n",
       "    this.send_message('resize', {'width': x_pixels, 'height': y_pixels});\n",
       "}\n",
       "\n",
       "mpl.figure.prototype.send_message = function(type, properties) {\n",
       "    properties['type'] = type;\n",
       "    properties['figure_id'] = this.id;\n",
       "    this.ws.send(JSON.stringify(properties));\n",
       "}\n",
       "\n",
       "mpl.figure.prototype.send_draw_message = function() {\n",
       "    if (!this.waiting) {\n",
       "        this.waiting = true;\n",
       "        this.ws.send(JSON.stringify({type: \"draw\", figure_id: this.id}));\n",
       "    }\n",
       "}\n",
       "\n",
       "\n",
       "mpl.figure.prototype.handle_save = function(fig, msg) {\n",
       "    var format_dropdown = fig.format_dropdown;\n",
       "    var format = format_dropdown.options[format_dropdown.selectedIndex].value;\n",
       "    fig.ondownload(fig, format);\n",
       "}\n",
       "\n",
       "\n",
       "mpl.figure.prototype.handle_resize = function(fig, msg) {\n",
       "    var size = msg['size'];\n",
       "    if (size[0] != fig.canvas.width || size[1] != fig.canvas.height) {\n",
       "        fig._resize_canvas(size[0], size[1]);\n",
       "        fig.send_message(\"refresh\", {});\n",
       "    };\n",
       "}\n",
       "\n",
       "mpl.figure.prototype.handle_rubberband = function(fig, msg) {\n",
       "    var x0 = msg['x0'] / mpl.ratio;\n",
       "    var y0 = (fig.canvas.height - msg['y0']) / mpl.ratio;\n",
       "    var x1 = msg['x1'] / mpl.ratio;\n",
       "    var y1 = (fig.canvas.height - msg['y1']) / mpl.ratio;\n",
       "    x0 = Math.floor(x0) + 0.5;\n",
       "    y0 = Math.floor(y0) + 0.5;\n",
       "    x1 = Math.floor(x1) + 0.5;\n",
       "    y1 = Math.floor(y1) + 0.5;\n",
       "    var min_x = Math.min(x0, x1);\n",
       "    var min_y = Math.min(y0, y1);\n",
       "    var width = Math.abs(x1 - x0);\n",
       "    var height = Math.abs(y1 - y0);\n",
       "\n",
       "    fig.rubberband_context.clearRect(\n",
       "        0, 0, fig.canvas.width, fig.canvas.height);\n",
       "\n",
       "    fig.rubberband_context.strokeRect(min_x, min_y, width, height);\n",
       "}\n",
       "\n",
       "mpl.figure.prototype.handle_figure_label = function(fig, msg) {\n",
       "    // Updates the figure title.\n",
       "    fig.header.textContent = msg['label'];\n",
       "}\n",
       "\n",
       "mpl.figure.prototype.handle_cursor = function(fig, msg) {\n",
       "    var cursor = msg['cursor'];\n",
       "    switch(cursor)\n",
       "    {\n",
       "    case 0:\n",
       "        cursor = 'pointer';\n",
       "        break;\n",
       "    case 1:\n",
       "        cursor = 'default';\n",
       "        break;\n",
       "    case 2:\n",
       "        cursor = 'crosshair';\n",
       "        break;\n",
       "    case 3:\n",
       "        cursor = 'move';\n",
       "        break;\n",
       "    }\n",
       "    fig.rubberband_canvas.style.cursor = cursor;\n",
       "}\n",
       "\n",
       "mpl.figure.prototype.handle_message = function(fig, msg) {\n",
       "    fig.message.textContent = msg['message'];\n",
       "}\n",
       "\n",
       "mpl.figure.prototype.handle_draw = function(fig, msg) {\n",
       "    // Request the server to send over a new figure.\n",
       "    fig.send_draw_message();\n",
       "}\n",
       "\n",
       "mpl.figure.prototype.handle_image_mode = function(fig, msg) {\n",
       "    fig.image_mode = msg['mode'];\n",
       "}\n",
       "\n",
       "mpl.figure.prototype.updated_canvas_event = function() {\n",
       "    // Called whenever the canvas gets updated.\n",
       "    this.send_message(\"ack\", {});\n",
       "}\n",
       "\n",
       "// A function to construct a web socket function for onmessage handling.\n",
       "// Called in the figure constructor.\n",
       "mpl.figure.prototype._make_on_message_function = function(fig) {\n",
       "    return function socket_on_message(evt) {\n",
       "        if (evt.data instanceof Blob) {\n",
       "            /* FIXME: We get \"Resource interpreted as Image but\n",
       "             * transferred with MIME type text/plain:\" errors on\n",
       "             * Chrome.  But how to set the MIME type?  It doesn't seem\n",
       "             * to be part of the websocket stream */\n",
       "            evt.data.type = \"image/png\";\n",
       "\n",
       "            /* Free the memory for the previous frames */\n",
       "            if (fig.imageObj.src) {\n",
       "                (window.URL || window.webkitURL).revokeObjectURL(\n",
       "                    fig.imageObj.src);\n",
       "            }\n",
       "\n",
       "            fig.imageObj.src = (window.URL || window.webkitURL).createObjectURL(\n",
       "                evt.data);\n",
       "            fig.updated_canvas_event();\n",
       "            fig.waiting = false;\n",
       "            return;\n",
       "        }\n",
       "        else if (typeof evt.data === 'string' && evt.data.slice(0, 21) == \"data:image/png;base64\") {\n",
       "            fig.imageObj.src = evt.data;\n",
       "            fig.updated_canvas_event();\n",
       "            fig.waiting = false;\n",
       "            return;\n",
       "        }\n",
       "\n",
       "        var msg = JSON.parse(evt.data);\n",
       "        var msg_type = msg['type'];\n",
       "\n",
       "        // Call the  \"handle_{type}\" callback, which takes\n",
       "        // the figure and JSON message as its only arguments.\n",
       "        try {\n",
       "            var callback = fig[\"handle_\" + msg_type];\n",
       "        } catch (e) {\n",
       "            console.log(\"No handler for the '\" + msg_type + \"' message type: \", msg);\n",
       "            return;\n",
       "        }\n",
       "\n",
       "        if (callback) {\n",
       "            try {\n",
       "                // console.log(\"Handling '\" + msg_type + \"' message: \", msg);\n",
       "                callback(fig, msg);\n",
       "            } catch (e) {\n",
       "                console.log(\"Exception inside the 'handler_\" + msg_type + \"' callback:\", e, e.stack, msg);\n",
       "            }\n",
       "        }\n",
       "    };\n",
       "}\n",
       "\n",
       "// from http://stackoverflow.com/questions/1114465/getting-mouse-location-in-canvas\n",
       "mpl.findpos = function(e) {\n",
       "    //this section is from http://www.quirksmode.org/js/events_properties.html\n",
       "    var targ;\n",
       "    if (!e)\n",
       "        e = window.event;\n",
       "    if (e.target)\n",
       "        targ = e.target;\n",
       "    else if (e.srcElement)\n",
       "        targ = e.srcElement;\n",
       "    if (targ.nodeType == 3) // defeat Safari bug\n",
       "        targ = targ.parentNode;\n",
       "\n",
       "    // jQuery normalizes the pageX and pageY\n",
       "    // pageX,Y are the mouse positions relative to the document\n",
       "    // offset() returns the position of the element relative to the document\n",
       "    var x = e.pageX - $(targ).offset().left;\n",
       "    var y = e.pageY - $(targ).offset().top;\n",
       "\n",
       "    return {\"x\": x, \"y\": y};\n",
       "};\n",
       "\n",
       "/*\n",
       " * return a copy of an object with only non-object keys\n",
       " * we need this to avoid circular references\n",
       " * http://stackoverflow.com/a/24161582/3208463\n",
       " */\n",
       "function simpleKeys (original) {\n",
       "  return Object.keys(original).reduce(function (obj, key) {\n",
       "    if (typeof original[key] !== 'object')\n",
       "        obj[key] = original[key]\n",
       "    return obj;\n",
       "  }, {});\n",
       "}\n",
       "\n",
       "mpl.figure.prototype.mouse_event = function(event, name) {\n",
       "    var canvas_pos = mpl.findpos(event)\n",
       "\n",
       "    if (name === 'button_press')\n",
       "    {\n",
       "        this.canvas.focus();\n",
       "        this.canvas_div.focus();\n",
       "    }\n",
       "\n",
       "    var x = canvas_pos.x * mpl.ratio;\n",
       "    var y = canvas_pos.y * mpl.ratio;\n",
       "\n",
       "    this.send_message(name, {x: x, y: y, button: event.button,\n",
       "                             step: event.step,\n",
       "                             guiEvent: simpleKeys(event)});\n",
       "\n",
       "    /* This prevents the web browser from automatically changing to\n",
       "     * the text insertion cursor when the button is pressed.  We want\n",
       "     * to control all of the cursor setting manually through the\n",
       "     * 'cursor' event from matplotlib */\n",
       "    event.preventDefault();\n",
       "    return false;\n",
       "}\n",
       "\n",
       "mpl.figure.prototype._key_event_extra = function(event, name) {\n",
       "    // Handle any extra behaviour associated with a key event\n",
       "}\n",
       "\n",
       "mpl.figure.prototype.key_event = function(event, name) {\n",
       "\n",
       "    // Prevent repeat events\n",
       "    if (name == 'key_press')\n",
       "    {\n",
       "        if (event.which === this._key)\n",
       "            return;\n",
       "        else\n",
       "            this._key = event.which;\n",
       "    }\n",
       "    if (name == 'key_release')\n",
       "        this._key = null;\n",
       "\n",
       "    var value = '';\n",
       "    if (event.ctrlKey && event.which != 17)\n",
       "        value += \"ctrl+\";\n",
       "    if (event.altKey && event.which != 18)\n",
       "        value += \"alt+\";\n",
       "    if (event.shiftKey && event.which != 16)\n",
       "        value += \"shift+\";\n",
       "\n",
       "    value += 'k';\n",
       "    value += event.which.toString();\n",
       "\n",
       "    this._key_event_extra(event, name);\n",
       "\n",
       "    this.send_message(name, {key: value,\n",
       "                             guiEvent: simpleKeys(event)});\n",
       "    return false;\n",
       "}\n",
       "\n",
       "mpl.figure.prototype.toolbar_button_onclick = function(name) {\n",
       "    if (name == 'download') {\n",
       "        this.handle_save(this, null);\n",
       "    } else {\n",
       "        this.send_message(\"toolbar_button\", {name: name});\n",
       "    }\n",
       "};\n",
       "\n",
       "mpl.figure.prototype.toolbar_button_onmouseover = function(tooltip) {\n",
       "    this.message.textContent = tooltip;\n",
       "};\n",
       "mpl.toolbar_items = [[\"Home\", \"Reset original view\", \"fa fa-home icon-home\", \"home\"], [\"Back\", \"Back to previous view\", \"fa fa-arrow-left icon-arrow-left\", \"back\"], [\"Forward\", \"Forward to next view\", \"fa fa-arrow-right icon-arrow-right\", \"forward\"], [\"\", \"\", \"\", \"\"], [\"Pan\", \"Pan axes with left mouse, zoom with right\", \"fa fa-arrows icon-move\", \"pan\"], [\"Zoom\", \"Zoom to rectangle\", \"fa fa-square-o icon-check-empty\", \"zoom\"], [\"\", \"\", \"\", \"\"], [\"Download\", \"Download plot\", \"fa fa-floppy-o icon-save\", \"download\"]];\n",
       "\n",
       "mpl.extensions = [\"eps\", \"jpeg\", \"pdf\", \"png\", \"ps\", \"raw\", \"svg\", \"tif\"];\n",
       "\n",
       "mpl.default_extension = \"png\";var comm_websocket_adapter = function(comm) {\n",
       "    // Create a \"websocket\"-like object which calls the given IPython comm\n",
       "    // object with the appropriate methods. Currently this is a non binary\n",
       "    // socket, so there is still some room for performance tuning.\n",
       "    var ws = {};\n",
       "\n",
       "    ws.close = function() {\n",
       "        comm.close()\n",
       "    };\n",
       "    ws.send = function(m) {\n",
       "        //console.log('sending', m);\n",
       "        comm.send(m);\n",
       "    };\n",
       "    // Register the callback with on_msg.\n",
       "    comm.on_msg(function(msg) {\n",
       "        //console.log('receiving', msg['content']['data'], msg);\n",
       "        // Pass the mpl event to the overridden (by mpl) onmessage function.\n",
       "        ws.onmessage(msg['content']['data'])\n",
       "    });\n",
       "    return ws;\n",
       "}\n",
       "\n",
       "mpl.mpl_figure_comm = function(comm, msg) {\n",
       "    // This is the function which gets called when the mpl process\n",
       "    // starts-up an IPython Comm through the \"matplotlib\" channel.\n",
       "\n",
       "    var id = msg.content.data.id;\n",
       "    // Get hold of the div created by the display call when the Comm\n",
       "    // socket was opened in Python.\n",
       "    var element = $(\"#\" + id);\n",
       "    var ws_proxy = comm_websocket_adapter(comm)\n",
       "\n",
       "    function ondownload(figure, format) {\n",
       "        window.open(figure.imageObj.src);\n",
       "    }\n",
       "\n",
       "    var fig = new mpl.figure(id, ws_proxy,\n",
       "                           ondownload,\n",
       "                           element.get(0));\n",
       "\n",
       "    // Call onopen now - mpl needs it, as it is assuming we've passed it a real\n",
       "    // web socket which is closed, not our websocket->open comm proxy.\n",
       "    ws_proxy.onopen();\n",
       "\n",
       "    fig.parent_element = element.get(0);\n",
       "    fig.cell_info = mpl.find_output_cell(\"<div id='\" + id + \"'></div>\");\n",
       "    if (!fig.cell_info) {\n",
       "        console.error(\"Failed to find cell for figure\", id, fig);\n",
       "        return;\n",
       "    }\n",
       "\n",
       "    var output_index = fig.cell_info[2]\n",
       "    var cell = fig.cell_info[0];\n",
       "\n",
       "};\n",
       "\n",
       "mpl.figure.prototype.handle_close = function(fig, msg) {\n",
       "    var width = fig.canvas.width/mpl.ratio\n",
       "    fig.root.unbind('remove')\n",
       "\n",
       "    // Update the output cell to use the data from the current canvas.\n",
       "    fig.push_to_output();\n",
       "    var dataURL = fig.canvas.toDataURL();\n",
       "    // Re-enable the keyboard manager in IPython - without this line, in FF,\n",
       "    // the notebook keyboard shortcuts fail.\n",
       "    IPython.keyboard_manager.enable()\n",
       "    $(fig.parent_element).html('<img src=\"' + dataURL + '\" width=\"' + width + '\">');\n",
       "    fig.close_ws(fig, msg);\n",
       "}\n",
       "\n",
       "mpl.figure.prototype.close_ws = function(fig, msg){\n",
       "    fig.send_message('closing', msg);\n",
       "    // fig.ws.close()\n",
       "}\n",
       "\n",
       "mpl.figure.prototype.push_to_output = function(remove_interactive) {\n",
       "    // Turn the data on the canvas into data in the output cell.\n",
       "    var width = this.canvas.width/mpl.ratio\n",
       "    var dataURL = this.canvas.toDataURL();\n",
       "    this.cell_info[1]['text/html'] = '<img src=\"' + dataURL + '\" width=\"' + width + '\">';\n",
       "}\n",
       "\n",
       "mpl.figure.prototype.updated_canvas_event = function() {\n",
       "    // Tell IPython that the notebook contents must change.\n",
       "    IPython.notebook.set_dirty(true);\n",
       "    this.send_message(\"ack\", {});\n",
       "    var fig = this;\n",
       "    // Wait a second, then push the new image to the DOM so\n",
       "    // that it is saved nicely (might be nice to debounce this).\n",
       "    setTimeout(function () { fig.push_to_output() }, 1000);\n",
       "}\n",
       "\n",
       "mpl.figure.prototype._init_toolbar = function() {\n",
       "    var fig = this;\n",
       "\n",
       "    var nav_element = $('<div/>');\n",
       "    nav_element.attr('style', 'width: 100%');\n",
       "    this.root.append(nav_element);\n",
       "\n",
       "    // Define a callback function for later on.\n",
       "    function toolbar_event(event) {\n",
       "        return fig.toolbar_button_onclick(event['data']);\n",
       "    }\n",
       "    function toolbar_mouse_event(event) {\n",
       "        return fig.toolbar_button_onmouseover(event['data']);\n",
       "    }\n",
       "\n",
       "    for(var toolbar_ind in mpl.toolbar_items){\n",
       "        var name = mpl.toolbar_items[toolbar_ind][0];\n",
       "        var tooltip = mpl.toolbar_items[toolbar_ind][1];\n",
       "        var image = mpl.toolbar_items[toolbar_ind][2];\n",
       "        var method_name = mpl.toolbar_items[toolbar_ind][3];\n",
       "\n",
       "        if (!name) { continue; };\n",
       "\n",
       "        var button = $('<button class=\"btn btn-default\" href=\"#\" title=\"' + name + '\"><i class=\"fa ' + image + ' fa-lg\"></i></button>');\n",
       "        button.click(method_name, toolbar_event);\n",
       "        button.mouseover(tooltip, toolbar_mouse_event);\n",
       "        nav_element.append(button);\n",
       "    }\n",
       "\n",
       "    // Add the status bar.\n",
       "    var status_bar = $('<span class=\"mpl-message\" style=\"text-align:right; float: right;\"/>');\n",
       "    nav_element.append(status_bar);\n",
       "    this.message = status_bar[0];\n",
       "\n",
       "    // Add the close button to the window.\n",
       "    var buttongrp = $('<div class=\"btn-group inline pull-right\"></div>');\n",
       "    var button = $('<button class=\"btn btn-mini btn-primary\" href=\"#\" title=\"Stop Interaction\"><i class=\"fa fa-power-off icon-remove icon-large\"></i></button>');\n",
       "    button.click(function (evt) { fig.handle_close(fig, {}); } );\n",
       "    button.mouseover('Stop Interaction', toolbar_mouse_event);\n",
       "    buttongrp.append(button);\n",
       "    var titlebar = this.root.find($('.ui-dialog-titlebar'));\n",
       "    titlebar.prepend(buttongrp);\n",
       "}\n",
       "\n",
       "mpl.figure.prototype._root_extra_style = function(el){\n",
       "    var fig = this\n",
       "    el.on(\"remove\", function(){\n",
       "\tfig.close_ws(fig, {});\n",
       "    });\n",
       "}\n",
       "\n",
       "mpl.figure.prototype._canvas_extra_style = function(el){\n",
       "    // this is important to make the div 'focusable\n",
       "    el.attr('tabindex', 0)\n",
       "    // reach out to IPython and tell the keyboard manager to turn it's self\n",
       "    // off when our div gets focus\n",
       "\n",
       "    // location in version 3\n",
       "    if (IPython.notebook.keyboard_manager) {\n",
       "        IPython.notebook.keyboard_manager.register_events(el);\n",
       "    }\n",
       "    else {\n",
       "        // location in version 2\n",
       "        IPython.keyboard_manager.register_events(el);\n",
       "    }\n",
       "\n",
       "}\n",
       "\n",
       "mpl.figure.prototype._key_event_extra = function(event, name) {\n",
       "    var manager = IPython.notebook.keyboard_manager;\n",
       "    if (!manager)\n",
       "        manager = IPython.keyboard_manager;\n",
       "\n",
       "    // Check for shift+enter\n",
       "    if (event.shiftKey && event.which == 13) {\n",
       "        this.canvas_div.blur();\n",
       "        event.shiftKey = false;\n",
       "        // Send a \"J\" for go to next cell\n",
       "        event.which = 74;\n",
       "        event.keyCode = 74;\n",
       "        manager.command_mode();\n",
       "        manager.handle_keydown(event);\n",
       "    }\n",
       "}\n",
       "\n",
       "mpl.figure.prototype.handle_save = function(fig, msg) {\n",
       "    fig.ondownload(fig, null);\n",
       "}\n",
       "\n",
       "\n",
       "mpl.find_output_cell = function(html_output) {\n",
       "    // Return the cell and output element which can be found *uniquely* in the notebook.\n",
       "    // Note - this is a bit hacky, but it is done because the \"notebook_saving.Notebook\"\n",
       "    // IPython event is triggered only after the cells have been serialised, which for\n",
       "    // our purposes (turning an active figure into a static one), is too late.\n",
       "    var cells = IPython.notebook.get_cells();\n",
       "    var ncells = cells.length;\n",
       "    for (var i=0; i<ncells; i++) {\n",
       "        var cell = cells[i];\n",
       "        if (cell.cell_type === 'code'){\n",
       "            for (var j=0; j<cell.output_area.outputs.length; j++) {\n",
       "                var data = cell.output_area.outputs[j];\n",
       "                if (data.data) {\n",
       "                    // IPython >= 3 moved mimebundle to data attribute of output\n",
       "                    data = data.data;\n",
       "                }\n",
       "                if (data['text/html'] == html_output) {\n",
       "                    return [cell, data, j];\n",
       "                }\n",
       "            }\n",
       "        }\n",
       "    }\n",
       "}\n",
       "\n",
       "// Register the function which deals with the matplotlib target/channel.\n",
       "// The kernel may be null if the page has been refreshed.\n",
       "if (IPython.notebook.kernel != null) {\n",
       "    IPython.notebook.kernel.comm_manager.register_target('matplotlib', mpl.mpl_figure_comm);\n",
       "}\n"
      ],
      "text/plain": [
       "<IPython.core.display.Javascript object>"
      ]
     },
     "metadata": {},
     "output_type": "display_data"
    },
    {
     "data": {
      "text/html": [
       "<img src=\"data:image/png;base64,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\" width=\"640\">"
      ],
      "text/plain": [
       "<IPython.core.display.HTML object>"
      ]
     },
     "metadata": {},
     "output_type": "display_data"
    }
   ],
   "source": [
    "Ix_mean_pop = [0.48,0.31,0.29]\n",
    "#Ix_mean_pop = [0.15,0,0]\n",
    "Ix_mean = np.array([Ix_mean_pop[i] for i in Neuron.Tag])\n",
    "GluIn_mat = np.zeros((Neuron.Tag.size, iterations))\n",
    "for ind in range(Neuron.Tag.size):\n",
    "    GluIn_mat[ind, :] = poisson_spikes(Ix_mean[ind], 1000)\n",
    "\n",
    "%matplotlib notebook\n",
    "monitor_ind = create_monitorind([20,20,20]) # randomly chosen monitor indices\n",
    "\n",
    "run_plot(endtime=time, Ix_mat=GluIn_mat, monitor_ind=monitor_ind)\n",
    "#(monitorSpiketime, monitorSpike, monitorV) = rundynamics(endtime=time, Ix_mat=GluIn_mat, monitor_ind=[0,1,2])"
   ]
  },
  {
   "cell_type": "markdown",
   "metadata": {},
   "source": [
    "### FSI input effect"
   ]
  },
  {
   "cell_type": "code",
   "execution_count": 8,
   "metadata": {},
   "outputs": [
    {
     "data": {
      "application/vnd.jupyter.widget-view+json": {
       "model_id": "e3b0c4f5b560408ea6f18dd99a2e4ea3",
       "version_major": 2,
       "version_minor": 0
      },
      "text/plain": [
       "HBox(children=(IntProgress(value=0, max=1000), HTML(value='')))"
      ]
     },
     "metadata": {},
     "output_type": "display_data"
    },
    {
     "name": "stdout",
     "output_type": "stream",
     "text": [
      "\n"
     ]
    },
    {
     "data": {
      "application/vnd.jupyter.widget-view+json": {
       "model_id": "733e746d8bf34ae595a62cd04db80128",
       "version_major": 2,
       "version_minor": 0
      },
      "text/plain": [
       "HBox(children=(IntProgress(value=0, max=30000), HTML(value='')))"
      ]
     },
     "metadata": {},
     "output_type": "display_data"
    },
    {
     "name": "stdout",
     "output_type": "stream",
     "text": [
      "\n"
     ]
    },
    {
     "data": {
      "application/vnd.jupyter.widget-view+json": {
       "model_id": "b637a3e4835a4ce6b91415b434414899",
       "version_major": 2,
       "version_minor": 0
      },
      "text/plain": [
       "HBox(children=(IntProgress(value=0, max=1000), HTML(value='')))"
      ]
     },
     "metadata": {},
     "output_type": "display_data"
    },
    {
     "name": "stdout",
     "output_type": "stream",
     "text": [
      "\n"
     ]
    },
    {
     "data": {
      "application/vnd.jupyter.widget-view+json": {
       "model_id": "33a3937e425045f8895f2174d7082b2c",
       "version_major": 2,
       "version_minor": 0
      },
      "text/plain": [
       "HBox(children=(IntProgress(value=0, max=30000), HTML(value='')))"
      ]
     },
     "metadata": {},
     "output_type": "display_data"
    },
    {
     "name": "stdout",
     "output_type": "stream",
     "text": [
      "\n"
     ]
    },
    {
     "data": {
      "application/vnd.jupyter.widget-view+json": {
       "model_id": "f767ab6cf25b43feb872916b6002afc1",
       "version_major": 2,
       "version_minor": 0
      },
      "text/plain": [
       "HBox(children=(IntProgress(value=0, max=1000), HTML(value='')))"
      ]
     },
     "metadata": {},
     "output_type": "display_data"
    },
    {
     "name": "stdout",
     "output_type": "stream",
     "text": [
      "\n"
     ]
    },
    {
     "data": {
      "application/vnd.jupyter.widget-view+json": {
       "model_id": "a5071279b94e4986b84860eede1047de",
       "version_major": 2,
       "version_minor": 0
      },
      "text/plain": [
       "HBox(children=(IntProgress(value=0, max=30000), HTML(value='')))"
      ]
     },
     "metadata": {},
     "output_type": "display_data"
    },
    {
     "name": "stdout",
     "output_type": "stream",
     "text": [
      "\n"
     ]
    },
    {
     "data": {
      "application/vnd.jupyter.widget-view+json": {
       "model_id": "bebde636d53f4361832758672be29a21",
       "version_major": 2,
       "version_minor": 0
      },
      "text/plain": [
       "HBox(children=(IntProgress(value=0, max=1000), HTML(value='')))"
      ]
     },
     "metadata": {},
     "output_type": "display_data"
    },
    {
     "name": "stdout",
     "output_type": "stream",
     "text": [
      "\n"
     ]
    },
    {
     "data": {
      "application/vnd.jupyter.widget-view+json": {
       "model_id": "0d19921f5d4c45439d34f4b65c0f52fd",
       "version_major": 2,
       "version_minor": 0
      },
      "text/plain": [
       "HBox(children=(IntProgress(value=0, max=30000), HTML(value='')))"
      ]
     },
     "metadata": {},
     "output_type": "display_data"
    },
    {
     "name": "stdout",
     "output_type": "stream",
     "text": [
      "\n"
     ]
    },
    {
     "data": {
      "application/vnd.jupyter.widget-view+json": {
       "model_id": "a2dc45ab7ea24fc88d24fb5173b3c6c2",
       "version_major": 2,
       "version_minor": 0
      },
      "text/plain": [
       "HBox(children=(IntProgress(value=0, max=1000), HTML(value='')))"
      ]
     },
     "metadata": {},
     "output_type": "display_data"
    },
    {
     "name": "stdout",
     "output_type": "stream",
     "text": [
      "\n"
     ]
    },
    {
     "data": {
      "application/vnd.jupyter.widget-view+json": {
       "model_id": "72ecaf94722744dd9647e437a442ce13",
       "version_major": 2,
       "version_minor": 0
      },
      "text/plain": [
       "HBox(children=(IntProgress(value=0, max=30000), HTML(value='')))"
      ]
     },
     "metadata": {},
     "output_type": "display_data"
    },
    {
     "name": "stdout",
     "output_type": "stream",
     "text": [
      "\n"
     ]
    },
    {
     "data": {
      "application/vnd.jupyter.widget-view+json": {
       "model_id": "3421ed91838f45bd92d8098f05d8c676",
       "version_major": 2,
       "version_minor": 0
      },
      "text/plain": [
       "HBox(children=(IntProgress(value=0, max=1000), HTML(value='')))"
      ]
     },
     "metadata": {},
     "output_type": "display_data"
    },
    {
     "name": "stdout",
     "output_type": "stream",
     "text": [
      "\n"
     ]
    },
    {
     "data": {
      "application/vnd.jupyter.widget-view+json": {
       "model_id": "f13968f95eef4e29a9558c72885d7fda",
       "version_major": 2,
       "version_minor": 0
      },
      "text/plain": [
       "HBox(children=(IntProgress(value=0, max=30000), HTML(value='')))"
      ]
     },
     "metadata": {},
     "output_type": "display_data"
    },
    {
     "name": "stdout",
     "output_type": "stream",
     "text": [
      "\n"
     ]
    },
    {
     "data": {
      "application/vnd.jupyter.widget-view+json": {
       "model_id": "2009f1e774994d6dad46092df55257bc",
       "version_major": 2,
       "version_minor": 0
      },
      "text/plain": [
       "HBox(children=(IntProgress(value=0, max=1000), HTML(value='')))"
      ]
     },
     "metadata": {},
     "output_type": "display_data"
    },
    {
     "name": "stdout",
     "output_type": "stream",
     "text": [
      "\n"
     ]
    },
    {
     "data": {
      "application/vnd.jupyter.widget-view+json": {
       "model_id": "87097f246a88472cb16477af2c25eae3",
       "version_major": 2,
       "version_minor": 0
      },
      "text/plain": [
       "HBox(children=(IntProgress(value=0, max=30000), HTML(value='')))"
      ]
     },
     "metadata": {},
     "output_type": "display_data"
    },
    {
     "name": "stdout",
     "output_type": "stream",
     "text": [
      "\n"
     ]
    },
    {
     "data": {
      "application/vnd.jupyter.widget-view+json": {
       "model_id": "dfee2038417b4e7ba134eb589694ff6c",
       "version_major": 2,
       "version_minor": 0
      },
      "text/plain": [
       "HBox(children=(IntProgress(value=0, max=1000), HTML(value='')))"
      ]
     },
     "metadata": {},
     "output_type": "display_data"
    },
    {
     "name": "stdout",
     "output_type": "stream",
     "text": [
      "\n"
     ]
    },
    {
     "data": {
      "application/vnd.jupyter.widget-view+json": {
       "model_id": "2dbd7ab15dae4934a79ea129d8121661",
       "version_major": 2,
       "version_minor": 0
      },
      "text/plain": [
       "HBox(children=(IntProgress(value=0, max=30000), HTML(value='')))"
      ]
     },
     "metadata": {},
     "output_type": "display_data"
    },
    {
     "name": "stdout",
     "output_type": "stream",
     "text": [
      "\n"
     ]
    },
    {
     "data": {
      "application/vnd.jupyter.widget-view+json": {
       "model_id": "5ad5446dc1c74b35b993c13375776be1",
       "version_major": 2,
       "version_minor": 0
      },
      "text/plain": [
       "HBox(children=(IntProgress(value=0, max=1000), HTML(value='')))"
      ]
     },
     "metadata": {},
     "output_type": "display_data"
    },
    {
     "name": "stdout",
     "output_type": "stream",
     "text": [
      "\n"
     ]
    },
    {
     "data": {
      "application/vnd.jupyter.widget-view+json": {
       "model_id": "4e158a2f1d604b7f8ca1a43dd72a1a1d",
       "version_major": 2,
       "version_minor": 0
      },
      "text/plain": [
       "HBox(children=(IntProgress(value=0, max=30000), HTML(value='')))"
      ]
     },
     "metadata": {},
     "output_type": "display_data"
    },
    {
     "name": "stdout",
     "output_type": "stream",
     "text": [
      "\n"
     ]
    },
    {
     "data": {
      "application/vnd.jupyter.widget-view+json": {
       "model_id": "8e60776f18674ea0a8b7c74bf63a725f",
       "version_major": 2,
       "version_minor": 0
      },
      "text/plain": [
       "HBox(children=(IntProgress(value=0, max=1000), HTML(value='')))"
      ]
     },
     "metadata": {},
     "output_type": "display_data"
    },
    {
     "name": "stdout",
     "output_type": "stream",
     "text": [
      "\n"
     ]
    },
    {
     "data": {
      "application/vnd.jupyter.widget-view+json": {
       "model_id": "0194998ae6974b6eb4c34a2a9bd56e5b",
       "version_major": 2,
       "version_minor": 0
      },
      "text/plain": [
       "HBox(children=(IntProgress(value=0, max=30000), HTML(value='')))"
      ]
     },
     "metadata": {},
     "output_type": "display_data"
    },
    {
     "name": "stdout",
     "output_type": "stream",
     "text": [
      "\n"
     ]
    },
    {
     "data": {
      "application/vnd.jupyter.widget-view+json": {
       "model_id": "dbb3d55237a346e1b5ec5998af080b61",
       "version_major": 2,
       "version_minor": 0
      },
      "text/plain": [
       "HBox(children=(IntProgress(value=0, max=1000), HTML(value='')))"
      ]
     },
     "metadata": {},
     "output_type": "display_data"
    },
    {
     "name": "stdout",
     "output_type": "stream",
     "text": [
      "\n"
     ]
    },
    {
     "data": {
      "application/vnd.jupyter.widget-view+json": {
       "model_id": "0d7c5efd5ab840dba3ccaf41cc759d91",
       "version_major": 2,
       "version_minor": 0
      },
      "text/plain": [
       "HBox(children=(IntProgress(value=0, max=30000), HTML(value='')))"
      ]
     },
     "metadata": {},
     "output_type": "display_data"
    },
    {
     "name": "stdout",
     "output_type": "stream",
     "text": [
      "\n"
     ]
    },
    {
     "data": {
      "application/vnd.jupyter.widget-view+json": {
       "model_id": "4243dddae1d74cababf3e20b3b5d3ba2",
       "version_major": 2,
       "version_minor": 0
      },
      "text/plain": [
       "HBox(children=(IntProgress(value=0, max=1000), HTML(value='')))"
      ]
     },
     "metadata": {},
     "output_type": "display_data"
    },
    {
     "name": "stdout",
     "output_type": "stream",
     "text": [
      "\n"
     ]
    },
    {
     "data": {
      "application/vnd.jupyter.widget-view+json": {
       "model_id": "47a8a31e733b4afea8996d64962f7027",
       "version_major": 2,
       "version_minor": 0
      },
      "text/plain": [
       "HBox(children=(IntProgress(value=0, max=30000), HTML(value='')))"
      ]
     },
     "metadata": {},
     "output_type": "display_data"
    },
    {
     "name": "stdout",
     "output_type": "stream",
     "text": [
      "\n"
     ]
    },
    {
     "data": {
      "application/vnd.jupyter.widget-view+json": {
       "model_id": "dc0b077544794a4bb0dd77a2fd7b22a9",
       "version_major": 2,
       "version_minor": 0
      },
      "text/plain": [
       "HBox(children=(IntProgress(value=0, max=1000), HTML(value='')))"
      ]
     },
     "metadata": {},
     "output_type": "display_data"
    },
    {
     "name": "stdout",
     "output_type": "stream",
     "text": [
      "\n"
     ]
    },
    {
     "data": {
      "application/vnd.jupyter.widget-view+json": {
       "model_id": "e45cdbc9357f41da91d02f7959e4ae65",
       "version_major": 2,
       "version_minor": 0
      },
      "text/plain": [
       "HBox(children=(IntProgress(value=0, max=30000), HTML(value='')))"
      ]
     },
     "metadata": {},
     "output_type": "display_data"
    },
    {
     "name": "stdout",
     "output_type": "stream",
     "text": [
      "\n"
     ]
    },
    {
     "data": {
      "application/vnd.jupyter.widget-view+json": {
       "model_id": "50c0f00aa1b74fe0a79b12e6de6823b1",
       "version_major": 2,
       "version_minor": 0
      },
      "text/plain": [
       "HBox(children=(IntProgress(value=0, max=1000), HTML(value='')))"
      ]
     },
     "metadata": {},
     "output_type": "display_data"
    },
    {
     "name": "stdout",
     "output_type": "stream",
     "text": [
      "\n"
     ]
    },
    {
     "data": {
      "application/vnd.jupyter.widget-view+json": {
       "model_id": "6f2d3ec516a744b0a545e42dd3680c4e",
       "version_major": 2,
       "version_minor": 0
      },
      "text/plain": [
       "HBox(children=(IntProgress(value=0, max=30000), HTML(value='')))"
      ]
     },
     "metadata": {},
     "output_type": "display_data"
    },
    {
     "name": "stdout",
     "output_type": "stream",
     "text": [
      "\n"
     ]
    },
    {
     "data": {
      "application/vnd.jupyter.widget-view+json": {
       "model_id": "1624b2d132d045ee900d84d2658c30c8",
       "version_major": 2,
       "version_minor": 0
      },
      "text/plain": [
       "HBox(children=(IntProgress(value=0, max=1000), HTML(value='')))"
      ]
     },
     "metadata": {},
     "output_type": "display_data"
    },
    {
     "name": "stdout",
     "output_type": "stream",
     "text": [
      "\n"
     ]
    },
    {
     "data": {
      "application/vnd.jupyter.widget-view+json": {
       "model_id": "abcc7f5cc1d74023afc9a39277372088",
       "version_major": 2,
       "version_minor": 0
      },
      "text/plain": [
       "HBox(children=(IntProgress(value=0, max=30000), HTML(value='')))"
      ]
     },
     "metadata": {},
     "output_type": "display_data"
    },
    {
     "name": "stdout",
     "output_type": "stream",
     "text": [
      "\n"
     ]
    },
    {
     "data": {
      "application/vnd.jupyter.widget-view+json": {
       "model_id": "4ad983213a074feca45b01b0d18f4976",
       "version_major": 2,
       "version_minor": 0
      },
      "text/plain": [
       "HBox(children=(IntProgress(value=0, max=1000), HTML(value='')))"
      ]
     },
     "metadata": {},
     "output_type": "display_data"
    },
    {
     "name": "stdout",
     "output_type": "stream",
     "text": [
      "\n"
     ]
    },
    {
     "data": {
      "application/vnd.jupyter.widget-view+json": {
       "model_id": "598890ebe10944659f8029c2234255fe",
       "version_major": 2,
       "version_minor": 0
      },
      "text/plain": [
       "HBox(children=(IntProgress(value=0, max=30000), HTML(value='')))"
      ]
     },
     "metadata": {},
     "output_type": "display_data"
    },
    {
     "name": "stdout",
     "output_type": "stream",
     "text": [
      "\n"
     ]
    },
    {
     "data": {
      "application/vnd.jupyter.widget-view+json": {
       "model_id": "bb67a525136543d0bb33b0ce44b77df5",
       "version_major": 2,
       "version_minor": 0
      },
      "text/plain": [
       "HBox(children=(IntProgress(value=0, max=1000), HTML(value='')))"
      ]
     },
     "metadata": {},
     "output_type": "display_data"
    },
    {
     "name": "stdout",
     "output_type": "stream",
     "text": [
      "\n"
     ]
    },
    {
     "data": {
      "application/vnd.jupyter.widget-view+json": {
       "model_id": "3fc2da0ad5374fb2aede3e680619de8c",
       "version_major": 2,
       "version_minor": 0
      },
      "text/plain": [
       "HBox(children=(IntProgress(value=0, max=30000), HTML(value='')))"
      ]
     },
     "metadata": {},
     "output_type": "display_data"
    },
    {
     "name": "stdout",
     "output_type": "stream",
     "text": [
      "\n"
     ]
    },
    {
     "data": {
      "application/vnd.jupyter.widget-view+json": {
       "model_id": "6e88f4725a0146c09b1da777374fab8d",
       "version_major": 2,
       "version_minor": 0
      },
      "text/plain": [
       "HBox(children=(IntProgress(value=0, max=1000), HTML(value='')))"
      ]
     },
     "metadata": {},
     "output_type": "display_data"
    },
    {
     "name": "stdout",
     "output_type": "stream",
     "text": [
      "\n"
     ]
    },
    {
     "data": {
      "application/vnd.jupyter.widget-view+json": {
       "model_id": "591ea6716efd4e4db790bb9b5bbea3c6",
       "version_major": 2,
       "version_minor": 0
      },
      "text/plain": [
       "HBox(children=(IntProgress(value=0, max=30000), HTML(value='')))"
      ]
     },
     "metadata": {},
     "output_type": "display_data"
    },
    {
     "name": "stdout",
     "output_type": "stream",
     "text": [
      "\n"
     ]
    },
    {
     "data": {
      "application/vnd.jupyter.widget-view+json": {
       "model_id": "bad46672a2454b46b0aa2d0d5fef6953",
       "version_major": 2,
       "version_minor": 0
      },
      "text/plain": [
       "HBox(children=(IntProgress(value=0, max=1000), HTML(value='')))"
      ]
     },
     "metadata": {},
     "output_type": "display_data"
    },
    {
     "name": "stdout",
     "output_type": "stream",
     "text": [
      "\n"
     ]
    },
    {
     "data": {
      "application/vnd.jupyter.widget-view+json": {
       "model_id": "f73f6d0abfb14123a2f2afef5de0c8fa",
       "version_major": 2,
       "version_minor": 0
      },
      "text/plain": [
       "HBox(children=(IntProgress(value=0, max=30000), HTML(value='')))"
      ]
     },
     "metadata": {},
     "output_type": "display_data"
    },
    {
     "name": "stdout",
     "output_type": "stream",
     "text": [
      "\n"
     ]
    },
    {
     "data": {
      "application/vnd.jupyter.widget-view+json": {
       "model_id": "3203fb60d9ef4a288297c993b6624da3",
       "version_major": 2,
       "version_minor": 0
      },
      "text/plain": [
       "HBox(children=(IntProgress(value=0, max=1000), HTML(value='')))"
      ]
     },
     "metadata": {},
     "output_type": "display_data"
    },
    {
     "name": "stdout",
     "output_type": "stream",
     "text": [
      "\n"
     ]
    },
    {
     "data": {
      "application/vnd.jupyter.widget-view+json": {
       "model_id": "45fe56994ec645b9821a803cd3f9233d",
       "version_major": 2,
       "version_minor": 0
      },
      "text/plain": [
       "HBox(children=(IntProgress(value=0, max=30000), HTML(value='')))"
      ]
     },
     "metadata": {},
     "output_type": "display_data"
    },
    {
     "name": "stdout",
     "output_type": "stream",
     "text": [
      "\n"
     ]
    }
   ],
   "source": [
    "Ilist = np.repeat(np.linspace(0.1,0.32,20),1)\n",
    "nIlist = len(Ilist)\n",
    "MeanRate = np.zeros((3, nIlist))\n",
    "\n",
    "for (ind1, Ifsi) in enumerate(Ilist):\n",
    "    Ix_mean_pop = [Ifsi,0.24,0.24]\n",
    "    Ix_mean = np.array([Ix_mean_pop[i] for i in Neuron.Tag])\n",
    "    GluIn_mat = np.zeros((Neuron.Tag.size, iterations))\n",
    "    for ind2 in range(Neuron.Tag.size):\n",
    "        GluIn_mat[ind2, :] = poisson_spikes(Ix_mean[ind2], 1000)\n",
    "    \n",
    "    Neuron.Wmat = create_Wmat(Population.NN, Population.CP, Population.CW)\n",
    "    Neuron.V = Neuron.V_R\n",
    "    rundynamics(endtime=100, Ix_mat=GluIn_mat, monitor_ind=[]);\n",
    "    rundynamics(endtime=time, Ix_mat=GluIn_mat, monitor_ind=[]);\n",
    "    MeanRate[:,ind1] = Population.MeanSpikeRate[:]\n",
    "    "
   ]
  },
  {
   "cell_type": "code",
   "execution_count": 16,
   "metadata": {},
   "outputs": [
    {
     "data": {
      "text/plain": [
       "<matplotlib.legend.Legend at 0x7fd4e86c2c18>"
      ]
     },
     "execution_count": 16,
     "metadata": {},
     "output_type": "execute_result"
    },
    {
     "name": "stderr",
     "output_type": "stream",
     "text": [
      "findfont: Font family ['normal'] not found. Falling back to DejaVu Sans.\n"
     ]
    },
    {
     "data": {
      "image/png": "[encoded data removed]",
      "text/plain": [
       "<Figure size 432x288 with 1 Axes>"
      ]
     },
     "metadata": {
      "needs_background": "light"
     },
     "output_type": "display_data"
    }
   ],
   "source": [
    "plt.figure()\n",
    "#plt.plot(Ilist, MeanRate[0,:], label='FSI')\n",
    "plt.plot(MeanRate[0,:], MeanRate[1,:], 'o', label='dSPN')\n",
    "plt.plot(MeanRate[0,:], MeanRate[2,:], 'o', label='iSPN')\n",
    "\n",
    "plt.xlabel('FSI mean rate (Hz)')\n",
    "plt.ylabel('output rates (Hz)')\n",
    "plt.legend()\n",
    "#plt.savefig('FSI_input_effect_2.png')"
   ]
  },
  {
   "cell_type": "code",
   "execution_count": 11,
   "metadata": {},
   "outputs": [],
   "source": [
    "# binning plot \n",
    "nbins = 16\n",
    "MeanRate2 = np.zeros((3, nbins))\n",
    "VarRate2  = np.zeros((3, nbins))\n",
    "\n",
    "\n",
    "\n",
    "x  = MeanRate[0,:]\n",
    "y  = MeanRate[1,:]\n",
    "z  = MeanRate[2,:]\n",
    "\n",
    "n, _ = np.histogram(x, bins=nbins)\n",
    "MeanRate2[0,:] = (_[1:] + _[:-1])/2\n",
    "\n",
    "sy, _ = np.histogram(x, bins=nbins, weights=y)\n",
    "sy2, _ = np.histogram(x, bins=nbins, weights=y*y)\n",
    "mean = sy / n\n",
    "std = np.sqrt(sy2/n - mean*mean)\n",
    "MeanRate2[1,:] = mean\n",
    "VarRate2[1,:]  = std\n",
    "\n",
    "sz, _ = np.histogram(x, bins=nbins, weights=z)\n",
    "sz2, _ = np.histogram(x, bins=nbins, weights=z*z)\n",
    "mean = sz / n\n",
    "std = np.sqrt(sz2/n - mean*mean)\n",
    "MeanRate2[2,:] = mean\n",
    "VarRate2[2,:]  = std\n",
    "\n"
   ]
  },
  {
   "cell_type": "code",
   "execution_count": 12,
   "metadata": {},
   "outputs": [
    {
     "data": {
      "application/javascript": [
       "/* Put everything inside the global mpl namespace */\n",
       "window.mpl = {};\n",
       "\n",
       "\n",
       "mpl.get_websocket_type = function() {\n",
       "    if (typeof(WebSocket) !== 'undefined') {\n",
       "        return WebSocket;\n",
       "    } else if (typeof(MozWebSocket) !== 'undefined') {\n",
       "        return MozWebSocket;\n",
       "    } else {\n",
       "        alert('Your browser does not have WebSocket support.' +\n",
       "              'Please try Chrome, Safari or Firefox ≥ 6. ' +\n",
       "              'Firefox 4 and 5 are also supported but you ' +\n",
       "              'have to enable WebSockets in about:config.');\n",
       "    };\n",
       "}\n",
       "\n",
       "mpl.figure = function(figure_id, websocket, ondownload, parent_element) {\n",
       "    this.id = figure_id;\n",
       "\n",
       "    this.ws = websocket;\n",
       "\n",
       "    this.supports_binary = (this.ws.binaryType != undefined);\n",
       "\n",
       "    if (!this.supports_binary) {\n",
       "        var warnings = document.getElementById(\"mpl-warnings\");\n",
       "        if (warnings) {\n",
       "            warnings.style.display = 'block';\n",
       "            warnings.textContent = (\n",
       "                \"This browser does not support binary websocket messages. \" +\n",
       "                    \"Performance may be slow.\");\n",
       "        }\n",
       "    }\n",
       "\n",
       "    this.imageObj = new Image();\n",
       "\n",
       "    this.context = undefined;\n",
       "    this.message = undefined;\n",
       "    this.canvas = undefined;\n",
       "    this.rubberband_canvas = undefined;\n",
       "    this.rubberband_context = undefined;\n",
       "    this.format_dropdown = undefined;\n",
       "\n",
       "    this.image_mode = 'full';\n",
       "\n",
       "    this.root = $('<div/>');\n",
       "    this._root_extra_style(this.root)\n",
       "    this.root.attr('style', 'display: inline-block');\n",
       "\n",
       "    $(parent_element).append(this.root);\n",
       "\n",
       "    this._init_header(this);\n",
       "    this._init_canvas(this);\n",
       "    this._init_toolbar(this);\n",
       "\n",
       "    var fig = this;\n",
       "\n",
       "    this.waiting = false;\n",
       "\n",
       "    this.ws.onopen =  function () {\n",
       "            fig.send_message(\"supports_binary\", {value: fig.supports_binary});\n",
       "            fig.send_message(\"send_image_mode\", {});\n",
       "            if (mpl.ratio != 1) {\n",
       "                fig.send_message(\"set_dpi_ratio\", {'dpi_ratio': mpl.ratio});\n",
       "            }\n",
       "            fig.send_message(\"refresh\", {});\n",
       "        }\n",
       "\n",
       "    this.imageObj.onload = function() {\n",
       "            if (fig.image_mode == 'full') {\n",
       "                // Full images could contain transparency (where diff images\n",
       "                // almost always do), so we need to clear the canvas so that\n",
       "                // there is no ghosting.\n",
       "                fig.context.clearRect(0, 0, fig.canvas.width, fig.canvas.height);\n",
       "            }\n",
       "            fig.context.drawImage(fig.imageObj, 0, 0);\n",
       "        };\n",
       "\n",
       "    this.imageObj.onunload = function() {\n",
       "        fig.ws.close();\n",
       "    }\n",
       "\n",
       "    this.ws.onmessage = this._make_on_message_function(this);\n",
       "\n",
       "    this.ondownload = ondownload;\n",
       "}\n",
       "\n",
       "mpl.figure.prototype._init_header = function() {\n",
       "    var titlebar = $(\n",
       "        '<div class=\"ui-dialog-titlebar ui-widget-header ui-corner-all ' +\n",
       "        'ui-helper-clearfix\"/>');\n",
       "    var titletext = $(\n",
       "        '<div class=\"ui-dialog-title\" style=\"width: 100%; ' +\n",
       "        'text-align: center; padding: 3px;\"/>');\n",
       "    titlebar.append(titletext)\n",
       "    this.root.append(titlebar);\n",
       "    this.header = titletext[0];\n",
       "}\n",
       "\n",
       "\n",
       "\n",
       "mpl.figure.prototype._canvas_extra_style = function(canvas_div) {\n",
       "\n",
       "}\n",
       "\n",
       "\n",
       "mpl.figure.prototype._root_extra_style = function(canvas_div) {\n",
       "\n",
       "}\n",
       "\n",
       "mpl.figure.prototype._init_canvas = function() {\n",
       "    var fig = this;\n",
       "\n",
       "    var canvas_div = $('<div/>');\n",
       "\n",
       "    canvas_div.attr('style', 'position: relative; clear: both; outline: 0');\n",
       "\n",
       "    function canvas_keyboard_event(event) {\n",
       "        return fig.key_event(event, event['data']);\n",
       "    }\n",
       "\n",
       "    canvas_div.keydown('key_press', canvas_keyboard_event);\n",
       "    canvas_div.keyup('key_release', canvas_keyboard_event);\n",
       "    this.canvas_div = canvas_div\n",
       "    this._canvas_extra_style(canvas_div)\n",
       "    this.root.append(canvas_div);\n",
       "\n",
       "    var canvas = $('<canvas/>');\n",
       "    canvas.addClass('mpl-canvas');\n",
       "    canvas.attr('style', \"left: 0; top: 0; z-index: 0; outline: 0\")\n",
       "\n",
       "    this.canvas = canvas[0];\n",
       "    this.context = canvas[0].getContext(\"2d\");\n",
       "\n",
       "    var backingStore = this.context.backingStorePixelRatio ||\n",
       "\tthis.context.webkitBackingStorePixelRatio ||\n",
       "\tthis.context.mozBackingStorePixelRatio ||\n",
       "\tthis.context.msBackingStorePixelRatio ||\n",
       "\tthis.context.oBackingStorePixelRatio ||\n",
       "\tthis.context.backingStorePixelRatio || 1;\n",
       "\n",
       "    mpl.ratio = (window.devicePixelRatio || 1) / backingStore;\n",
       "\n",
       "    var rubberband = $('<canvas/>');\n",
       "    rubberband.attr('style', \"position: absolute; left: 0; top: 0; z-index: 1;\")\n",
       "\n",
       "    var pass_mouse_events = true;\n",
       "\n",
       "    canvas_div.resizable({\n",
       "        start: function(event, ui) {\n",
       "            pass_mouse_events = false;\n",
       "        },\n",
       "        resize: function(event, ui) {\n",
       "            fig.request_resize(ui.size.width, ui.size.height);\n",
       "        },\n",
       "        stop: function(event, ui) {\n",
       "            pass_mouse_events = true;\n",
       "            fig.request_resize(ui.size.width, ui.size.height);\n",
       "        },\n",
       "    });\n",
       "\n",
       "    function mouse_event_fn(event) {\n",
       "        if (pass_mouse_events)\n",
       "            return fig.mouse_event(event, event['data']);\n",
       "    }\n",
       "\n",
       "    rubberband.mousedown('button_press', mouse_event_fn);\n",
       "    rubberband.mouseup('button_release', mouse_event_fn);\n",
       "    // Throttle sequential mouse events to 1 every 20ms.\n",
       "    rubberband.mousemove('motion_notify', mouse_event_fn);\n",
       "\n",
       "    rubberband.mouseenter('figure_enter', mouse_event_fn);\n",
       "    rubberband.mouseleave('figure_leave', mouse_event_fn);\n",
       "\n",
       "    canvas_div.on(\"wheel\", function (event) {\n",
       "        event = event.originalEvent;\n",
       "        event['data'] = 'scroll'\n",
       "        if (event.deltaY < 0) {\n",
       "            event.step = 1;\n",
       "        } else {\n",
       "            event.step = -1;\n",
       "        }\n",
       "        mouse_event_fn(event);\n",
       "    });\n",
       "\n",
       "    canvas_div.append(canvas);\n",
       "    canvas_div.append(rubberband);\n",
       "\n",
       "    this.rubberband = rubberband;\n",
       "    this.rubberband_canvas = rubberband[0];\n",
       "    this.rubberband_context = rubberband[0].getContext(\"2d\");\n",
       "    this.rubberband_context.strokeStyle = \"#000000\";\n",
       "\n",
       "    this._resize_canvas = function(width, height) {\n",
       "        // Keep the size of the canvas, canvas container, and rubber band\n",
       "        // canvas in synch.\n",
       "        canvas_div.css('width', width)\n",
       "        canvas_div.css('height', height)\n",
       "\n",
       "        canvas.attr('width', width * mpl.ratio);\n",
       "        canvas.attr('height', height * mpl.ratio);\n",
       "        canvas.attr('style', 'width: ' + width + 'px; height: ' + height + 'px;');\n",
       "\n",
       "        rubberband.attr('width', width);\n",
       "        rubberband.attr('height', height);\n",
       "    }\n",
       "\n",
       "    // Set the figure to an initial 600x600px, this will subsequently be updated\n",
       "    // upon first draw.\n",
       "    this._resize_canvas(600, 600);\n",
       "\n",
       "    // Disable right mouse context menu.\n",
       "    $(this.rubberband_canvas).bind(\"contextmenu\",function(e){\n",
       "        return false;\n",
       "    });\n",
       "\n",
       "    function set_focus () {\n",
       "        canvas.focus();\n",
       "        canvas_div.focus();\n",
       "    }\n",
       "\n",
       "    window.setTimeout(set_focus, 100);\n",
       "}\n",
       "\n",
       "mpl.figure.prototype._init_toolbar = function() {\n",
       "    var fig = this;\n",
       "\n",
       "    var nav_element = $('<div/>')\n",
       "    nav_element.attr('style', 'width: 100%');\n",
       "    this.root.append(nav_element);\n",
       "\n",
       "    // Define a callback function for later on.\n",
       "    function toolbar_event(event) {\n",
       "        return fig.toolbar_button_onclick(event['data']);\n",
       "    }\n",
       "    function toolbar_mouse_event(event) {\n",
       "        return fig.toolbar_button_onmouseover(event['data']);\n",
       "    }\n",
       "\n",
       "    for(var toolbar_ind in mpl.toolbar_items) {\n",
       "        var name = mpl.toolbar_items[toolbar_ind][0];\n",
       "        var tooltip = mpl.toolbar_items[toolbar_ind][1];\n",
       "        var image = mpl.toolbar_items[toolbar_ind][2];\n",
       "        var method_name = mpl.toolbar_items[toolbar_ind][3];\n",
       "\n",
       "        if (!name) {\n",
       "            // put a spacer in here.\n",
       "            continue;\n",
       "        }\n",
       "        var button = $('<button/>');\n",
       "        button.addClass('ui-button ui-widget ui-state-default ui-corner-all ' +\n",
       "                        'ui-button-icon-only');\n",
       "        button.attr('role', 'button');\n",
       "        button.attr('aria-disabled', 'false');\n",
       "        button.click(method_name, toolbar_event);\n",
       "        button.mouseover(tooltip, toolbar_mouse_event);\n",
       "\n",
       "        var icon_img = $('<span/>');\n",
       "        icon_img.addClass('ui-button-icon-primary ui-icon');\n",
       "        icon_img.addClass(image);\n",
       "        icon_img.addClass('ui-corner-all');\n",
       "\n",
       "        var tooltip_span = $('<span/>');\n",
       "        tooltip_span.addClass('ui-button-text');\n",
       "        tooltip_span.html(tooltip);\n",
       "\n",
       "        button.append(icon_img);\n",
       "        button.append(tooltip_span);\n",
       "\n",
       "        nav_element.append(button);\n",
       "    }\n",
       "\n",
       "    var fmt_picker_span = $('<span/>');\n",
       "\n",
       "    var fmt_picker = $('<select/>');\n",
       "    fmt_picker.addClass('mpl-toolbar-option ui-widget ui-widget-content');\n",
       "    fmt_picker_span.append(fmt_picker);\n",
       "    nav_element.append(fmt_picker_span);\n",
       "    this.format_dropdown = fmt_picker[0];\n",
       "\n",
       "    for (var ind in mpl.extensions) {\n",
       "        var fmt = mpl.extensions[ind];\n",
       "        var option = $(\n",
       "            '<option/>', {selected: fmt === mpl.default_extension}).html(fmt);\n",
       "        fmt_picker.append(option)\n",
       "    }\n",
       "\n",
       "    // Add hover states to the ui-buttons\n",
       "    $( \".ui-button\" ).hover(\n",
       "        function() { $(this).addClass(\"ui-state-hover\");},\n",
       "        function() { $(this).removeClass(\"ui-state-hover\");}\n",
       "    );\n",
       "\n",
       "    var status_bar = $('<span class=\"mpl-message\"/>');\n",
       "    nav_element.append(status_bar);\n",
       "    this.message = status_bar[0];\n",
       "}\n",
       "\n",
       "mpl.figure.prototype.request_resize = function(x_pixels, y_pixels) {\n",
       "    // Request matplotlib to resize the figure. Matplotlib will then trigger a resize in the client,\n",
       "    // which will in turn request a refresh of the image.\n",
       "    this.send_message('resize', {'width': x_pixels, 'height': y_pixels});\n",
       "}\n",
       "\n",
       "mpl.figure.prototype.send_message = function(type, properties) {\n",
       "    properties['type'] = type;\n",
       "    properties['figure_id'] = this.id;\n",
       "    this.ws.send(JSON.stringify(properties));\n",
       "}\n",
       "\n",
       "mpl.figure.prototype.send_draw_message = function() {\n",
       "    if (!this.waiting) {\n",
       "        this.waiting = true;\n",
       "        this.ws.send(JSON.stringify({type: \"draw\", figure_id: this.id}));\n",
       "    }\n",
       "}\n",
       "\n",
       "\n",
       "mpl.figure.prototype.handle_save = function(fig, msg) {\n",
       "    var format_dropdown = fig.format_dropdown;\n",
       "    var format = format_dropdown.options[format_dropdown.selectedIndex].value;\n",
       "    fig.ondownload(fig, format);\n",
       "}\n",
       "\n",
       "\n",
       "mpl.figure.prototype.handle_resize = function(fig, msg) {\n",
       "    var size = msg['size'];\n",
       "    if (size[0] != fig.canvas.width || size[1] != fig.canvas.height) {\n",
       "        fig._resize_canvas(size[0], size[1]);\n",
       "        fig.send_message(\"refresh\", {});\n",
       "    };\n",
       "}\n",
       "\n",
       "mpl.figure.prototype.handle_rubberband = function(fig, msg) {\n",
       "    var x0 = msg['x0'] / mpl.ratio;\n",
       "    var y0 = (fig.canvas.height - msg['y0']) / mpl.ratio;\n",
       "    var x1 = msg['x1'] / mpl.ratio;\n",
       "    var y1 = (fig.canvas.height - msg['y1']) / mpl.ratio;\n",
       "    x0 = Math.floor(x0) + 0.5;\n",
       "    y0 = Math.floor(y0) + 0.5;\n",
       "    x1 = Math.floor(x1) + 0.5;\n",
       "    y1 = Math.floor(y1) + 0.5;\n",
       "    var min_x = Math.min(x0, x1);\n",
       "    var min_y = Math.min(y0, y1);\n",
       "    var width = Math.abs(x1 - x0);\n",
       "    var height = Math.abs(y1 - y0);\n",
       "\n",
       "    fig.rubberband_context.clearRect(\n",
       "        0, 0, fig.canvas.width, fig.canvas.height);\n",
       "\n",
       "    fig.rubberband_context.strokeRect(min_x, min_y, width, height);\n",
       "}\n",
       "\n",
       "mpl.figure.prototype.handle_figure_label = function(fig, msg) {\n",
       "    // Updates the figure title.\n",
       "    fig.header.textContent = msg['label'];\n",
       "}\n",
       "\n",
       "mpl.figure.prototype.handle_cursor = function(fig, msg) {\n",
       "    var cursor = msg['cursor'];\n",
       "    switch(cursor)\n",
       "    {\n",
       "    case 0:\n",
       "        cursor = 'pointer';\n",
       "        break;\n",
       "    case 1:\n",
       "        cursor = 'default';\n",
       "        break;\n",
       "    case 2:\n",
       "        cursor = 'crosshair';\n",
       "        break;\n",
       "    case 3:\n",
       "        cursor = 'move';\n",
       "        break;\n",
       "    }\n",
       "    fig.rubberband_canvas.style.cursor = cursor;\n",
       "}\n",
       "\n",
       "mpl.figure.prototype.handle_message = function(fig, msg) {\n",
       "    fig.message.textContent = msg['message'];\n",
       "}\n",
       "\n",
       "mpl.figure.prototype.handle_draw = function(fig, msg) {\n",
       "    // Request the server to send over a new figure.\n",
       "    fig.send_draw_message();\n",
       "}\n",
       "\n",
       "mpl.figure.prototype.handle_image_mode = function(fig, msg) {\n",
       "    fig.image_mode = msg['mode'];\n",
       "}\n",
       "\n",
       "mpl.figure.prototype.updated_canvas_event = function() {\n",
       "    // Called whenever the canvas gets updated.\n",
       "    this.send_message(\"ack\", {});\n",
       "}\n",
       "\n",
       "// A function to construct a web socket function for onmessage handling.\n",
       "// Called in the figure constructor.\n",
       "mpl.figure.prototype._make_on_message_function = function(fig) {\n",
       "    return function socket_on_message(evt) {\n",
       "        if (evt.data instanceof Blob) {\n",
       "            /* FIXME: We get \"Resource interpreted as Image but\n",
       "             * transferred with MIME type text/plain:\" errors on\n",
       "             * Chrome.  But how to set the MIME type?  It doesn't seem\n",
       "             * to be part of the websocket stream */\n",
       "            evt.data.type = \"image/png\";\n",
       "\n",
       "            /* Free the memory for the previous frames */\n",
       "            if (fig.imageObj.src) {\n",
       "                (window.URL || window.webkitURL).revokeObjectURL(\n",
       "                    fig.imageObj.src);\n",
       "            }\n",
       "\n",
       "            fig.imageObj.src = (window.URL || window.webkitURL).createObjectURL(\n",
       "                evt.data);\n",
       "            fig.updated_canvas_event();\n",
       "            fig.waiting = false;\n",
       "            return;\n",
       "        }\n",
       "        else if (typeof evt.data === 'string' && evt.data.slice(0, 21) == \"data:image/png;base64\") {\n",
       "            fig.imageObj.src = evt.data;\n",
       "            fig.updated_canvas_event();\n",
       "            fig.waiting = false;\n",
       "            return;\n",
       "        }\n",
       "\n",
       "        var msg = JSON.parse(evt.data);\n",
       "        var msg_type = msg['type'];\n",
       "\n",
       "        // Call the  \"handle_{type}\" callback, which takes\n",
       "        // the figure and JSON message as its only arguments.\n",
       "        try {\n",
       "            var callback = fig[\"handle_\" + msg_type];\n",
       "        } catch (e) {\n",
       "            console.log(\"No handler for the '\" + msg_type + \"' message type: \", msg);\n",
       "            return;\n",
       "        }\n",
       "\n",
       "        if (callback) {\n",
       "            try {\n",
       "                // console.log(\"Handling '\" + msg_type + \"' message: \", msg);\n",
       "                callback(fig, msg);\n",
       "            } catch (e) {\n",
       "                console.log(\"Exception inside the 'handler_\" + msg_type + \"' callback:\", e, e.stack, msg);\n",
       "            }\n",
       "        }\n",
       "    };\n",
       "}\n",
       "\n",
       "// from http://stackoverflow.com/questions/1114465/getting-mouse-location-in-canvas\n",
       "mpl.findpos = function(e) {\n",
       "    //this section is from http://www.quirksmode.org/js/events_properties.html\n",
       "    var targ;\n",
       "    if (!e)\n",
       "        e = window.event;\n",
       "    if (e.target)\n",
       "        targ = e.target;\n",
       "    else if (e.srcElement)\n",
       "        targ = e.srcElement;\n",
       "    if (targ.nodeType == 3) // defeat Safari bug\n",
       "        targ = targ.parentNode;\n",
       "\n",
       "    // jQuery normalizes the pageX and pageY\n",
       "    // pageX,Y are the mouse positions relative to the document\n",
       "    // offset() returns the position of the element relative to the document\n",
       "    var x = e.pageX - $(targ).offset().left;\n",
       "    var y = e.pageY - $(targ).offset().top;\n",
       "\n",
       "    return {\"x\": x, \"y\": y};\n",
       "};\n",
       "\n",
       "/*\n",
       " * return a copy of an object with only non-object keys\n",
       " * we need this to avoid circular references\n",
       " * http://stackoverflow.com/a/24161582/3208463\n",
       " */\n",
       "function simpleKeys (original) {\n",
       "  return Object.keys(original).reduce(function (obj, key) {\n",
       "    if (typeof original[key] !== 'object')\n",
       "        obj[key] = original[key]\n",
       "    return obj;\n",
       "  }, {});\n",
       "}\n",
       "\n",
       "mpl.figure.prototype.mouse_event = function(event, name) {\n",
       "    var canvas_pos = mpl.findpos(event)\n",
       "\n",
       "    if (name === 'button_press')\n",
       "    {\n",
       "        this.canvas.focus();\n",
       "        this.canvas_div.focus();\n",
       "    }\n",
       "\n",
       "    var x = canvas_pos.x * mpl.ratio;\n",
       "    var y = canvas_pos.y * mpl.ratio;\n",
       "\n",
       "    this.send_message(name, {x: x, y: y, button: event.button,\n",
       "                             step: event.step,\n",
       "                             guiEvent: simpleKeys(event)});\n",
       "\n",
       "    /* This prevents the web browser from automatically changing to\n",
       "     * the text insertion cursor when the button is pressed.  We want\n",
       "     * to control all of the cursor setting manually through the\n",
       "     * 'cursor' event from matplotlib */\n",
       "    event.preventDefault();\n",
       "    return false;\n",
       "}\n",
       "\n",
       "mpl.figure.prototype._key_event_extra = function(event, name) {\n",
       "    // Handle any extra behaviour associated with a key event\n",
       "}\n",
       "\n",
       "mpl.figure.prototype.key_event = function(event, name) {\n",
       "\n",
       "    // Prevent repeat events\n",
       "    if (name == 'key_press')\n",
       "    {\n",
       "        if (event.which === this._key)\n",
       "            return;\n",
       "        else\n",
       "            this._key = event.which;\n",
       "    }\n",
       "    if (name == 'key_release')\n",
       "        this._key = null;\n",
       "\n",
       "    var value = '';\n",
       "    if (event.ctrlKey && event.which != 17)\n",
       "        value += \"ctrl+\";\n",
       "    if (event.altKey && event.which != 18)\n",
       "        value += \"alt+\";\n",
       "    if (event.shiftKey && event.which != 16)\n",
       "        value += \"shift+\";\n",
       "\n",
       "    value += 'k';\n",
       "    value += event.which.toString();\n",
       "\n",
       "    this._key_event_extra(event, name);\n",
       "\n",
       "    this.send_message(name, {key: value,\n",
       "                             guiEvent: simpleKeys(event)});\n",
       "    return false;\n",
       "}\n",
       "\n",
       "mpl.figure.prototype.toolbar_button_onclick = function(name) {\n",
       "    if (name == 'download') {\n",
       "        this.handle_save(this, null);\n",
       "    } else {\n",
       "        this.send_message(\"toolbar_button\", {name: name});\n",
       "    }\n",
       "};\n",
       "\n",
       "mpl.figure.prototype.toolbar_button_onmouseover = function(tooltip) {\n",
       "    this.message.textContent = tooltip;\n",
       "};\n",
       "mpl.toolbar_items = [[\"Home\", \"Reset original view\", \"fa fa-home icon-home\", \"home\"], [\"Back\", \"Back to previous view\", \"fa fa-arrow-left icon-arrow-left\", \"back\"], [\"Forward\", \"Forward to next view\", \"fa fa-arrow-right icon-arrow-right\", \"forward\"], [\"\", \"\", \"\", \"\"], [\"Pan\", \"Pan axes with left mouse, zoom with right\", \"fa fa-arrows icon-move\", \"pan\"], [\"Zoom\", \"Zoom to rectangle\", \"fa fa-square-o icon-check-empty\", \"zoom\"], [\"\", \"\", \"\", \"\"], [\"Download\", \"Download plot\", \"fa fa-floppy-o icon-save\", \"download\"]];\n",
       "\n",
       "mpl.extensions = [\"eps\", \"jpeg\", \"pdf\", \"png\", \"ps\", \"raw\", \"svg\", \"tif\"];\n",
       "\n",
       "mpl.default_extension = \"png\";var comm_websocket_adapter = function(comm) {\n",
       "    // Create a \"websocket\"-like object which calls the given IPython comm\n",
       "    // object with the appropriate methods. Currently this is a non binary\n",
       "    // socket, so there is still some room for performance tuning.\n",
       "    var ws = {};\n",
       "\n",
       "    ws.close = function() {\n",
       "        comm.close()\n",
       "    };\n",
       "    ws.send = function(m) {\n",
       "        //console.log('sending', m);\n",
       "        comm.send(m);\n",
       "    };\n",
       "    // Register the callback with on_msg.\n",
       "    comm.on_msg(function(msg) {\n",
       "        //console.log('receiving', msg['content']['data'], msg);\n",
       "        // Pass the mpl event to the overridden (by mpl) onmessage function.\n",
       "        ws.onmessage(msg['content']['data'])\n",
       "    });\n",
       "    return ws;\n",
       "}\n",
       "\n",
       "mpl.mpl_figure_comm = function(comm, msg) {\n",
       "    // This is the function which gets called when the mpl process\n",
       "    // starts-up an IPython Comm through the \"matplotlib\" channel.\n",
       "\n",
       "    var id = msg.content.data.id;\n",
       "    // Get hold of the div created by the display call when the Comm\n",
       "    // socket was opened in Python.\n",
       "    var element = $(\"#\" + id);\n",
       "    var ws_proxy = comm_websocket_adapter(comm)\n",
       "\n",
       "    function ondownload(figure, format) {\n",
       "        window.open(figure.imageObj.src);\n",
       "    }\n",
       "\n",
       "    var fig = new mpl.figure(id, ws_proxy,\n",
       "                           ondownload,\n",
       "                           element.get(0));\n",
       "\n",
       "    // Call onopen now - mpl needs it, as it is assuming we've passed it a real\n",
       "    // web socket which is closed, not our websocket->open comm proxy.\n",
       "    ws_proxy.onopen();\n",
       "\n",
       "    fig.parent_element = element.get(0);\n",
       "    fig.cell_info = mpl.find_output_cell(\"<div id='\" + id + \"'></div>\");\n",
       "    if (!fig.cell_info) {\n",
       "        console.error(\"Failed to find cell for figure\", id, fig);\n",
       "        return;\n",
       "    }\n",
       "\n",
       "    var output_index = fig.cell_info[2]\n",
       "    var cell = fig.cell_info[0];\n",
       "\n",
       "};\n",
       "\n",
       "mpl.figure.prototype.handle_close = function(fig, msg) {\n",
       "    var width = fig.canvas.width/mpl.ratio\n",
       "    fig.root.unbind('remove')\n",
       "\n",
       "    // Update the output cell to use the data from the current canvas.\n",
       "    fig.push_to_output();\n",
       "    var dataURL = fig.canvas.toDataURL();\n",
       "    // Re-enable the keyboard manager in IPython - without this line, in FF,\n",
       "    // the notebook keyboard shortcuts fail.\n",
       "    IPython.keyboard_manager.enable()\n",
       "    $(fig.parent_element).html('<img src=\"' + dataURL + '\" width=\"' + width + '\">');\n",
       "    fig.close_ws(fig, msg);\n",
       "}\n",
       "\n",
       "mpl.figure.prototype.close_ws = function(fig, msg){\n",
       "    fig.send_message('closing', msg);\n",
       "    // fig.ws.close()\n",
       "}\n",
       "\n",
       "mpl.figure.prototype.push_to_output = function(remove_interactive) {\n",
       "    // Turn the data on the canvas into data in the output cell.\n",
       "    var width = this.canvas.width/mpl.ratio\n",
       "    var dataURL = this.canvas.toDataURL();\n",
       "    this.cell_info[1]['text/html'] = '<img src=\"' + dataURL + '\" width=\"' + width + '\">';\n",
       "}\n",
       "\n",
       "mpl.figure.prototype.updated_canvas_event = function() {\n",
       "    // Tell IPython that the notebook contents must change.\n",
       "    IPython.notebook.set_dirty(true);\n",
       "    this.send_message(\"ack\", {});\n",
       "    var fig = this;\n",
       "    // Wait a second, then push the new image to the DOM so\n",
       "    // that it is saved nicely (might be nice to debounce this).\n",
       "    setTimeout(function () { fig.push_to_output() }, 1000);\n",
       "}\n",
       "\n",
       "mpl.figure.prototype._init_toolbar = function() {\n",
       "    var fig = this;\n",
       "\n",
       "    var nav_element = $('<div/>')\n",
       "    nav_element.attr('style', 'width: 100%');\n",
       "    this.root.append(nav_element);\n",
       "\n",
       "    // Define a callback function for later on.\n",
       "    function toolbar_event(event) {\n",
       "        return fig.toolbar_button_onclick(event['data']);\n",
       "    }\n",
       "    function toolbar_mouse_event(event) {\n",
       "        return fig.toolbar_button_onmouseover(event['data']);\n",
       "    }\n",
       "\n",
       "    for(var toolbar_ind in mpl.toolbar_items){\n",
       "        var name = mpl.toolbar_items[toolbar_ind][0];\n",
       "        var tooltip = mpl.toolbar_items[toolbar_ind][1];\n",
       "        var image = mpl.toolbar_items[toolbar_ind][2];\n",
       "        var method_name = mpl.toolbar_items[toolbar_ind][3];\n",
       "\n",
       "        if (!name) { continue; };\n",
       "\n",
       "        var button = $('<button class=\"btn btn-default\" href=\"#\" title=\"' + name + '\"><i class=\"fa ' + image + ' fa-lg\"></i></button>');\n",
       "        button.click(method_name, toolbar_event);\n",
       "        button.mouseover(tooltip, toolbar_mouse_event);\n",
       "        nav_element.append(button);\n",
       "    }\n",
       "\n",
       "    // Add the status bar.\n",
       "    var status_bar = $('<span class=\"mpl-message\" style=\"text-align:right; float: right;\"/>');\n",
       "    nav_element.append(status_bar);\n",
       "    this.message = status_bar[0];\n",
       "\n",
       "    // Add the close button to the window.\n",
       "    var buttongrp = $('<div class=\"btn-group inline pull-right\"></div>');\n",
       "    var button = $('<button class=\"btn btn-mini btn-primary\" href=\"#\" title=\"Stop Interaction\"><i class=\"fa fa-power-off icon-remove icon-large\"></i></button>');\n",
       "    button.click(function (evt) { fig.handle_close(fig, {}); } );\n",
       "    button.mouseover('Stop Interaction', toolbar_mouse_event);\n",
       "    buttongrp.append(button);\n",
       "    var titlebar = this.root.find($('.ui-dialog-titlebar'));\n",
       "    titlebar.prepend(buttongrp);\n",
       "}\n",
       "\n",
       "mpl.figure.prototype._root_extra_style = function(el){\n",
       "    var fig = this\n",
       "    el.on(\"remove\", function(){\n",
       "\tfig.close_ws(fig, {});\n",
       "    });\n",
       "}\n",
       "\n",
       "mpl.figure.prototype._canvas_extra_style = function(el){\n",
       "    // this is important to make the div 'focusable\n",
       "    el.attr('tabindex', 0)\n",
       "    // reach out to IPython and tell the keyboard manager to turn it's self\n",
       "    // off when our div gets focus\n",
       "\n",
       "    // location in version 3\n",
       "    if (IPython.notebook.keyboard_manager) {\n",
       "        IPython.notebook.keyboard_manager.register_events(el);\n",
       "    }\n",
       "    else {\n",
       "        // location in version 2\n",
       "        IPython.keyboard_manager.register_events(el);\n",
       "    }\n",
       "\n",
       "}\n",
       "\n",
       "mpl.figure.prototype._key_event_extra = function(event, name) {\n",
       "    var manager = IPython.notebook.keyboard_manager;\n",
       "    if (!manager)\n",
       "        manager = IPython.keyboard_manager;\n",
       "\n",
       "    // Check for shift+enter\n",
       "    if (event.shiftKey && event.which == 13) {\n",
       "        this.canvas_div.blur();\n",
       "        event.shiftKey = false;\n",
       "        // Send a \"J\" for go to next cell\n",
       "        event.which = 74;\n",
       "        event.keyCode = 74;\n",
       "        manager.command_mode();\n",
       "        manager.handle_keydown(event);\n",
       "    }\n",
       "}\n",
       "\n",
       "mpl.figure.prototype.handle_save = function(fig, msg) {\n",
       "    fig.ondownload(fig, null);\n",
       "}\n",
       "\n",
       "\n",
       "mpl.find_output_cell = function(html_output) {\n",
       "    // Return the cell and output element which can be found *uniquely* in the notebook.\n",
       "    // Note - this is a bit hacky, but it is done because the \"notebook_saving.Notebook\"\n",
       "    // IPython event is triggered only after the cells have been serialised, which for\n",
       "    // our purposes (turning an active figure into a static one), is too late.\n",
       "    var cells = IPython.notebook.get_cells();\n",
       "    var ncells = cells.length;\n",
       "    for (var i=0; i<ncells; i++) {\n",
       "        var cell = cells[i];\n",
       "        if (cell.cell_type === 'code'){\n",
       "            for (var j=0; j<cell.output_area.outputs.length; j++) {\n",
       "                var data = cell.output_area.outputs[j];\n",
       "                if (data.data) {\n",
       "                    // IPython >= 3 moved mimebundle to data attribute of output\n",
       "                    data = data.data;\n",
       "                }\n",
       "                if (data['text/html'] == html_output) {\n",
       "                    return [cell, data, j];\n",
       "                }\n",
       "            }\n",
       "        }\n",
       "    }\n",
       "}\n",
       "\n",
       "// Register the function which deals with the matplotlib target/channel.\n",
       "// The kernel may be null if the page has been refreshed.\n",
       "if (IPython.notebook.kernel != null) {\n",
       "    IPython.notebook.kernel.comm_manager.register_target('matplotlib', mpl.mpl_figure_comm);\n",
       "}\n"
      ],
      "text/plain": [
       "<IPython.core.display.Javascript object>"
      ]
     },
     "metadata": {},
     "output_type": "display_data"
    },
    {
     "data": {
      "text/html": [
       "<img src=\"data:image/png;base64,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\" width=\"640\">"
      ],
      "text/plain": [
       "<IPython.core.display.HTML object>"
      ]
     },
     "metadata": {},
     "output_type": "display_data"
    }
   ],
   "source": [
    "plt.figure()\n",
    "#plt.plot(Ilist, MeanRate[0,:], label='FSI')\n",
    "plt.errorbar(MeanRate2[0,:], MeanRate2[1,:], yerr=VarRate2[1,:], label='dSPN', linewidth=2)\n",
    "plt.errorbar(MeanRate2[0,:], MeanRate2[2,:], yerr=VarRate2[2,:], label='iSPN', linewidth=2)\n",
    "\n",
    "plt.xlabel('FSI mean rate (Hz)')\n",
    "plt.ylabel('SPN mean rate (Hz)')\n",
    "plt.legend()\n",
    "plt.savefig('FSI_input_effect.svg', dpi=200, bbox_inches='tight')\n",
    "#plt.savefig('FSI_input_effect_2.png')"
   ]
  },
  {
   "cell_type": "markdown",
   "metadata": {},
   "source": [
    "## distribution of firing\n",
    "comparing change in MSN firing between FSI rate 0 and 10\n",
    "##\n",
    "FSI rate = 0 -> FSI input = 0\n",
    "##\n",
    "FSI rate = 10 Hz -> FSI input ~ 0.18\n",
    "\n",
    "for vi = -65 mV\n",
    "\n",
    "for mod = 0.1 & freq=1000 Ix_mean_pop = [0.19,0.3,0.29]"
   ]
  },
  {
   "cell_type": "code",
   "execution_count": 9,
   "metadata": {},
   "outputs": [],
   "source": [
    "# simulation with FSI_rate=0\n",
    "Ix_mean_pop = [0,0.24,0.24]    # for vi=-61mV\n",
    "#Ix_mean_pop = [0,0.3,0.29]     # for vi=-65mV\n",
    "Ix_mean = np.array([Ix_mean_pop[i] for i in Neuron.Tag])\n",
    "GluIn_mat_1 = np.zeros((Neuron.Tag.size, iterations), dtype='float32')\n",
    "for ind2 in range(Neuron.Tag.size):\n",
    "    GluIn_mat_1[ind2, :] = poisson_spikes(Ix_mean[ind2], 1000)\n",
    "    \n",
    "# simulation with FSI_rate=10\n",
    "Ix_mean_pop = [0.18,0.24,0.24]   # for vi=-61mV\n",
    "#Ix_mean_pop = [0.19,0.3,0.29]    # for vi=-65mV\n",
    "Ix_mean = np.array([Ix_mean_pop[i] for i in Neuron.Tag], dtype='float32')\n",
    "GluIn_mat_2 = np.zeros((Neuron.Tag.size, iterations))\n",
    "for ind2 in range(Neuron.Tag.size):\n",
    "    GluIn_mat_2[ind2, :] = poisson_spikes(Ix_mean[ind2], 1000)"
   ]
  },
  {
   "cell_type": "code",
   "execution_count": 10,
   "metadata": {},
   "outputs": [
    {
     "data": {
      "application/vnd.jupyter.widget-view+json": {
       "model_id": "2d591f6cf7e54a6bae0f4012847d6361",
       "version_major": 2,
       "version_minor": 0
      },
      "text/plain": [
       "HBox(children=(IntProgress(value=0, max=1000), HTML(value='')))"
      ]
     },
     "metadata": {},
     "output_type": "display_data"
    },
    {
     "name": "stdout",
     "output_type": "stream",
     "text": [
      "\n"
     ]
    },
    {
     "data": {
      "application/vnd.jupyter.widget-view+json": {
       "model_id": "e8a73d6aac6a4bdcb131ceb43cfeb916",
       "version_major": 2,
       "version_minor": 0
      },
      "text/plain": [
       "HBox(children=(IntProgress(value=0, max=1000000), HTML(value='')))"
      ]
     },
     "metadata": {},
     "output_type": "display_data"
    },
    {
     "name": "stdout",
     "output_type": "stream",
     "text": [
      "\n"
     ]
    },
    {
     "data": {
      "application/vnd.jupyter.widget-view+json": {
       "model_id": "15e2a5d03aa04ea497936655d5f68fd2",
       "version_major": 2,
       "version_minor": 0
      },
      "text/plain": [
       "HBox(children=(IntProgress(value=0, max=1000), HTML(value='')))"
      ]
     },
     "metadata": {},
     "output_type": "display_data"
    },
    {
     "name": "stdout",
     "output_type": "stream",
     "text": [
      "\n"
     ]
    },
    {
     "data": {
      "application/vnd.jupyter.widget-view+json": {
       "model_id": "e4eb416d375f41c195e44821dde59675",
       "version_major": 2,
       "version_minor": 0
      },
      "text/plain": [
       "HBox(children=(IntProgress(value=0, max=1000000), HTML(value='')))"
      ]
     },
     "metadata": {},
     "output_type": "display_data"
    },
    {
     "name": "stdout",
     "output_type": "stream",
     "text": [
      "\n"
     ]
    }
   ],
   "source": [
    "SpikeCount_list_1 = np.zeros((Neuron.Tag.size-20))\n",
    "SpikeCount_list_2 = np.zeros((Neuron.Tag.size-20))\n",
    "\n",
    "\n",
    "Neuron.Wmat = create_Wmat(Population.NN, Population.CP, Population.CW)\n",
    "\n",
    "Neuron.V = Neuron.V_R\n",
    "rundynamics(endtime=100, Ix_mat=GluIn_mat_1, monitor_ind=[]);\n",
    "rundynamics(endtime=time, Ix_mat=GluIn_mat_1, monitor_ind=[]);\n",
    "SpikeCount_list_1[:] = Neuron.SpikeCount[20:]\n",
    "\n",
    "\n",
    "Neuron.V = Neuron.V_R\n",
    "rundynamics(endtime=100, Ix_mat=GluIn_mat_2, monitor_ind=[]);\n",
    "rundynamics(endtime=time, Ix_mat=GluIn_mat_2, monitor_ind=[]);\n",
    "SpikeCount_list_2[:] = Neuron.SpikeCount[20:]    \n",
    "    "
   ]
  },
  {
   "cell_type": "code",
   "execution_count": 8,
   "metadata": {},
   "outputs": [
    {
     "data": {
      "application/vnd.jupyter.widget-view+json": {
       "model_id": "bb10930d24244c89a72a4d4ca568525d",
       "version_major": 2,
       "version_minor": 0
      },
      "text/plain": [
       "HBox(children=(IntProgress(value=0, max=1000), HTML(value='')))"
      ]
     },
     "metadata": {},
     "output_type": "display_data"
    },
    {
     "name": "stdout",
     "output_type": "stream",
     "text": [
      "\n"
     ]
    },
    {
     "data": {
      "application/vnd.jupyter.widget-view+json": {
       "model_id": "3974e7827d4a44d3af54f0ecd25ab528",
       "version_major": 2,
       "version_minor": 0
      },
      "text/plain": [
       "HBox(children=(IntProgress(value=0, max=100000), HTML(value='')))"
      ]
     },
     "metadata": {},
     "output_type": "display_data"
    },
    {
     "name": "stdout",
     "output_type": "stream",
     "text": [
      "\n"
     ]
    },
    {
     "data": {
      "application/vnd.jupyter.widget-view+json": {
       "model_id": "353b4362c0bd454ebbea5270a635936c",
       "version_major": 2,
       "version_minor": 0
      },
      "text/plain": [
       "HBox(children=(IntProgress(value=0, max=1000), HTML(value='')))"
      ]
     },
     "metadata": {},
     "output_type": "display_data"
    },
    {
     "name": "stdout",
     "output_type": "stream",
     "text": [
      "\n"
     ]
    },
    {
     "data": {
      "application/vnd.jupyter.widget-view+json": {
       "model_id": "e6db933c1f4d4030ae2fa24465ba10fc",
       "version_major": 2,
       "version_minor": 0
      },
      "text/plain": [
       "HBox(children=(IntProgress(value=0, max=100000), HTML(value='')))"
      ]
     },
     "metadata": {},
     "output_type": "display_data"
    },
    {
     "name": "stdout",
     "output_type": "stream",
     "text": [
      "\n"
     ]
    }
   ],
   "source": [
    "nsim = 1\n",
    "\n",
    "SpikeCount_list_1 = np.zeros((nsim, Neuron.Tag.size))\n",
    "SpikeCount_list_2 = np.zeros((nsim, Neuron.Tag.size))\n",
    "\n",
    "\n",
    "for ind in range(nsim):\n",
    "    Neuron.Wmat = create_Wmat(Population.NN, Population.CP, Population.CW)\n",
    "    \n",
    "    # simulation with FSI_rate=0\n",
    "    Ix_mean_pop = [0,0.31,0.29]\n",
    "    Ix_mean = np.array([Ix_mean_pop[i] for i in Neuron.Tag])\n",
    "    GluIn_mat = np.zeros((Neuron.Tag.size, iterations))\n",
    "    for ind2 in range(Neuron.Tag.size):\n",
    "        GluIn_mat[ind2, :] = poisson_spikes(Ix_mean[ind2], 1000)\n",
    "    \n",
    "    Neuron.V = Neuron.V_R\n",
    "    rundynamics(endtime=100, Ix_mat=GluIn_mat, monitor_ind=[]);\n",
    "    rundynamics(endtime=time, Ix_mat=GluIn_mat, monitor_ind=[]);\n",
    "    SpikeCount_list_1[ind,:] = Neuron.SpikeCount[:]\n",
    "    \n",
    "    # simulation with FSI_rate=10\n",
    "    Ix_mean_pop = [0.48,0.31,0.29]\n",
    "    Ix_mean = np.array([Ix_mean_pop[i] for i in Neuron.Tag])\n",
    "    GluIn_mat = np.zeros((Neuron.Tag.size, iterations))\n",
    "    for ind2 in range(Neuron.Tag.size):\n",
    "        GluIn_mat[ind2, :] = poisson_spikes(Ix_mean[ind2], 1000)\n",
    "    \n",
    "    Neuron.V = Neuron.V_R\n",
    "    rundynamics(endtime=100, Ix_mat=GluIn_mat, monitor_ind=[]);\n",
    "    rundynamics(endtime=time, Ix_mat=GluIn_mat, monitor_ind=[]);\n",
    "    SpikeCount_list_2[ind,:] = Neuron.SpikeCount[:]\n",
    "    "
   ]
  },
  {
   "cell_type": "code",
   "execution_count": 15,
   "metadata": {},
   "outputs": [
    {
     "data": {
      "text/plain": [
       "(0.20987755102040817, 0.14665656572943989)"
      ]
     },
     "execution_count": 15,
     "metadata": {},
     "output_type": "execute_result"
    },
    {
     "data": {
      "image/png": "[encoded data removed]",
      "text/plain": [
       "<Figure size 432x288 with 1 Axes>"
      ]
     },
     "metadata": {
      "needs_background": "light"
     },
     "output_type": "display_data"
    }
   ],
   "source": [
    "# plotting PDF\n",
    "rate_change = ((SpikeCount_list_2[20:] - SpikeCount_list_1[20:])/(time/1000)).flatten()\n",
    "n,x,_ = plt.hist(rate_change, bins=23, density=True);\n",
    "#bin_centers = 0.5*(x[1:]+x[:-1])\n",
    "#plt.plot(bin_centers,n)\n",
    "#plt.xlim([-4,4])\n",
    "plt.xlabel(r'change in SPN firing rate (Hz)')\n",
    "plt.ylabel(r'PDF (1/Hz)')\n",
    "\n",
    "# fit normal function\n",
    "mu, sigma = scipy.stats.norm.fit(rate_change)\n",
    "x_fit = np.linspace(-4, 4, num=100)\n",
    "best_fit_line = scipy.stats.norm.pdf(x_fit, mu, sigma)\n",
    "plt.plot(x_fit, best_fit_line, linewidth=4)\n",
    "plt.tight_layout()\n",
    "#plt.savefig('SPNfiring_change_PDF.svg', dpi=200, bbox_inches='tight')\n",
    "plt.savefig('SPNfiring_change_PDF_simulation100s_non-monotonicRegime.svg')\n",
    "mu, sigma"
   ]
  },
  {
   "cell_type": "code",
   "execution_count": 16,
   "metadata": {},
   "outputs": [
    {
     "data": {
      "text/plain": [
       "(-1.8910122699386505, 1.253793425096289)"
      ]
     },
     "execution_count": 16,
     "metadata": {},
     "output_type": "execute_result"
    },
    {
     "data": {
      "image/png": "[encoded data removed]",
      "text/plain": [
       "<Figure size 432x288 with 1 Axes>"
      ]
     },
     "metadata": {
      "needs_background": "light"
     },
     "output_type": "display_data"
    }
   ],
   "source": [
    "# plotting PDF\n",
    "rate_change = ((SpikeCount_list_2[0][200:] - SpikeCount_list_1[0][200:])/(time/1000)).flatten()\n",
    "n,x,_ = plt.hist(rate_change, bins=23, density=True);\n",
    "#bin_centers = 0.5*(x[1:]+x[:-1])\n",
    "#plt.plot(bin_centers,n)\n",
    "#plt.xlim([-4,4])\n",
    "plt.xlabel(r'change in SPN firing rate (Hz)')\n",
    "plt.ylabel(r'PDF (1/Hz)')\n",
    "\n",
    "# fit normal function\n",
    "mu, sigma = scipy.stats.norm.fit(rate_change)\n",
    "x_fit = np.linspace(-6, 2, num=100)\n",
    "best_fit_line = scipy.stats.norm.pdf(x_fit, mu, sigma)\n",
    "plt.plot(x_fit, best_fit_line, linewidth=4)\n",
    "plt.tight_layout()\n",
    "#plt.savefig('SPNfiring_change_PDF.svg', dpi=200, bbox_inches='tight')\n",
    "plt.savefig('SPNfiring_change_PDF_simulation10s_non-monotonicRegime_10000Neurons.svg')\n",
    "mu, sigma"
   ]
  },
  {
   "cell_type": "code",
   "execution_count": 14,
   "metadata": {},
   "outputs": [
    {
     "data": {
      "text/plain": [
       "array([0., 0., 0., 0., 0., 0., 0., 0., 0.])"
      ]
     },
     "execution_count": 14,
     "metadata": {},
     "output_type": "execute_result"
    }
   ],
   "source": [
    "SpikeCount_list_1[0][1:10]"
   ]
  },
  {
   "cell_type": "code",
   "execution_count": 16,
   "metadata": {},
   "outputs": [
    {
     "data": {
      "text/plain": [
       "(0.9971836734693877, 0.09836431107179103)"
      ]
     },
     "execution_count": 16,
     "metadata": {},
     "output_type": "execute_result"
    },
    {
     "data": {
      "image/png": "[encoded data removed]",
      "text/plain": [
       "<Figure size 432x288 with 1 Axes>"
      ]
     },
     "metadata": {
      "needs_background": "light"
     },
     "output_type": "display_data"
    }
   ],
   "source": [
    "# plotting PDF\n",
    "rate_change = ((SpikeCount_list_1)/(time/1000)).flatten()\n",
    "n,x,_ = plt.hist(rate_change, bins=23, density=True);\n",
    "#bin_centers = 0.5*(x[1:]+x[:-1])\n",
    "#plt.plot(bin_centers,n)\n",
    "#plt.xlim([-4,4])\n",
    "plt.xlabel(r'SPN firing rate (Hz)')\n",
    "plt.ylabel(r'PDF (1/Hz)')\n",
    "\n",
    "# fit normal function\n",
    "mu, sigma = scipy.stats.norm.fit(rate_change)\n",
    "x_fit = np.linspace(-4, 4, num=100)\n",
    "best_fit_line = scipy.stats.norm.pdf(x_fit, mu, sigma)\n",
    "#plt.plot(x_fit, best_fit_line, linewidth=4)\n",
    "plt.tight_layout()\n",
    "#plt.savefig('SPNfiring_change_PDF.svg', dpi=200, bbox_inches='tight')\n",
    "plt.savefig('SPNfiring_PDF_simulation100s_non-monotonicRegime.svg')\n",
    "mu, sigma"
   ]
  },
  {
   "cell_type": "code",
   "execution_count": 17,
   "metadata": {},
   "outputs": [
    {
     "data": {
      "image/png": "[encoded data removed]",
      "text/plain": [
       "<Figure size 432x288 with 1 Axes>"
      ]
     },
     "metadata": {
      "needs_background": "light"
     },
     "output_type": "display_data"
    }
   ],
   "source": [
    "from scipy.optimize import curve_fit\n",
    "from scipy.special import factorial\n",
    "from scipy.stats import poisson\n",
    "\n",
    "def fit_function(k, lamb):\n",
    "    '''poisson function, parameter lamb is the fit parameter'''\n",
    "    return poisson.pmf(k, lamb)\n",
    "\n",
    "\n",
    "data1 = (SpikeCount_list_1/(time/1000)).flatten()\n",
    "n,x,_ = plt.hist(data1, bins=12, density=True, alpha=0.5, label=r'$\\overline{\\nu_{\\rm FSI}} \\sim 0$ Hz');\n",
    "\n",
    "\n",
    "#bin_centers = 0.5*(x[1:]+x[:-1])\n",
    "# fit with curve_fit\n",
    "#parameters, cov_matrix = curve_fit(fit_function, bin_centers, n)\n",
    "#x_plot = np.linspace(0, 5, num=100)\n",
    "#plt.plot(x_plot, fit_function(x_plot, *parameters))\n",
    "\n",
    "data2 = (SpikeCount_list_2/(time/1000)).flatten()\n",
    "n,x,_ = plt.hist(data2, bins=15, density=True, alpha=0.5, label=r'$\\overline{\\nu_{\\rm FSI}} \\sim 10$ Hz');\n",
    "\n",
    "\n",
    "plt.xlabel(r'SPN firing rate (Hz)')\n",
    "plt.ylabel(r'PDF (1/Hz)')\n",
    "plt.legend()\n",
    "#plt.savefig('SPNfiring_PDF_inhibitoryRegime_100s.svg', dpi=200, bbox_inches='tight')\n",
    "plt.savefig('SPNfiring_PDF_non-monotonicRegime_100s.svg', dpi=200, bbox_inches='tight')\n"
   ]
  },
  {
   "cell_type": "markdown",
   "metadata": {},
   "source": [
    "## Diversity of SPN response to FSI modulation"
   ]
  },
  {
   "cell_type": "code",
   "execution_count": 70,
   "metadata": {},
   "outputs": [
    {
     "data": {
      "application/vnd.jupyter.widget-view+json": {
       "model_id": "7f148205624f4577b3aedcaf86c89625",
       "version_major": 2,
       "version_minor": 0
      },
      "text/plain": [
       "HBox(children=(IntProgress(value=0, max=1000), HTML(value='')))"
      ]
     },
     "metadata": {},
     "output_type": "display_data"
    },
    {
     "data": {
      "application/vnd.jupyter.widget-view+json": {
       "model_id": "c78ec38aacc54dcbbcb7a2093f7558dd",
       "version_major": 2,
       "version_minor": 0
      },
      "text/plain": [
       "HBox(children=(IntProgress(value=0, max=100000), HTML(value='')))"
      ]
     },
     "metadata": {},
     "output_type": "display_data"
    },
    {
     "data": {
      "application/vnd.jupyter.widget-view+json": {
       "model_id": "493740aa3cae46e7a3267e67ab070de2",
       "version_major": 2,
       "version_minor": 0
      },
      "text/plain": [
       "HBox(children=(IntProgress(value=0, max=1000), HTML(value='')))"
      ]
     },
     "metadata": {},
     "output_type": "display_data"
    },
    {
     "data": {
      "application/vnd.jupyter.widget-view+json": {
       "model_id": "cad092d49c824b6f958ba88d3ea52734",
       "version_major": 2,
       "version_minor": 0
      },
      "text/plain": [
       "HBox(children=(IntProgress(value=0, max=100000), HTML(value='')))"
      ]
     },
     "metadata": {},
     "output_type": "display_data"
    }
   ],
   "source": [
    "nsim = 1\n",
    "\n",
    "SpikeCount_list_1 = np.zeros((nsim, Neuron.Tag.size-20))\n",
    "SpikeCount_list_2 = np.zeros((nsim, Neuron.Tag.size-20))\n",
    "\n",
    "\n",
    "for ind in range(nsim):\n",
    "    Neuron.Wmat = create_Wmat(Population.NN, Population.CP, Population.CW)\n",
    "    \n",
    "    # simulation with FSI_rate=0\n",
    "    Ix_mean_pop = [0,0.24,0.24] # for vGABA = -61 mV\n",
    "    #Ix_mean_pop = [0,0.29,0.30] # for vGABA = -65 mV\n",
    "    Ix_mean = np.array([Ix_mean_pop[i] for i in Neuron.Tag])\n",
    "    GluIn_mat = np.zeros((Neuron.Tag.size, iterations))\n",
    "    for ind2 in range(Neuron.Tag.size):\n",
    "        GluIn_mat[ind2, :] = poisson_spikes(Ix_mean[ind2], 1000)\n",
    "    \n",
    "    Neuron.V = Neuron.V_R\n",
    "    rundynamics(endtime=100, Ix_mat=GluIn_mat, monitor_ind=[]);\n",
    "    rundynamics(endtime=time, Ix_mat=GluIn_mat, monitor_ind=[]);\n",
    "    SpikeCount_list_1[ind,:] = Neuron.SpikeCount[20:]\n",
    "    \n",
    "    # simulation with FSI_rate=10\n",
    "    Ix_mean_pop = [0.18,0.24,0.24] # for vGABA = -61 mV\n",
    "    #Ix_mean_pop = [0.18,0.29,0.30] # for vGABA = -65 mV\n",
    "    Ix_mean = np.array([Ix_mean_pop[i] for i in Neuron.Tag])\n",
    "    GluIn_mat = np.zeros((Neuron.Tag.size, iterations))\n",
    "    for ind2 in range(Neuron.Tag.size):\n",
    "        GluIn_mat[ind2, :] = poisson_spikes(Ix_mean[ind2], 1000)\n",
    "    \n",
    "    Neuron.V = Neuron.V_R\n",
    "    rundynamics(endtime=100, Ix_mat=GluIn_mat, monitor_ind=[]);\n",
    "    rundynamics(endtime=time, Ix_mat=GluIn_mat, monitor_ind=[]);\n",
    "    SpikeCount_list_2[ind,:] = Neuron.SpikeCount[20:]\n",
    "    FSI_spikeCount = Neuron.SpikeCount[:20]"
   ]
  },
  {
   "cell_type": "code",
   "execution_count": 19,
   "metadata": {},
   "outputs": [
    {
     "name": "stdout",
     "output_type": "stream",
     "text": [
      "[[ 1.        -0.6606542]\n",
      " [-0.6606542  1.       ]]\n"
     ]
    },
    {
     "data": {
      "image/png": "[encoded data removed]",
      "text/plain": [
       "<Figure size 432x288 with 1 Axes>"
      ]
     },
     "metadata": {
      "needs_background": "light"
     },
     "output_type": "display_data"
    },
    {
     "data": {
      "image/png": "[encoded data removed]",
      "text/plain": [
       "<Figure size 432x288 with 1 Axes>"
      ]
     },
     "metadata": {
      "needs_background": "light"
     },
     "output_type": "display_data"
    },
    {
     "data": {
      "image/png": "[encoded data removed]",
      "text/plain": [
       "<Figure size 432x288 with 1 Axes>"
      ]
     },
     "metadata": {
      "needs_background": "light"
     },
     "output_type": "display_data"
    }
   ],
   "source": [
    "incoming_w = np.sum(Neuron.Wmat[20:, 20:], axis=1)\n",
    "incoming_rate = np.matmul(Neuron.Wmat[20:, 20:], SpikeCount_list_1.transpose())\n",
    "#fsi_input = np.matmul(Neuron.Wmat[20:, :20], FSI_spikeCount.transpose())\n",
    "\n",
    "delta_f = (SpikeCount_list_2 - SpikeCount_list_1)/time*1000\n",
    "\n",
    "plt.figure()\n",
    "plt.scatter(incoming_rate, delta_f)\n",
    "\n",
    "plt.figure()\n",
    "plt.scatter(incoming_w, delta_f)\n",
    "\n",
    "\n",
    "#plt.figure()\n",
    "#plt.scatter(fsi_input, delta_f)\n",
    "#plt.xlabel(r'FSI input')\n",
    "#plt.ylabel('change in SPN firing rate (Hz)')\n",
    "\n",
    "#plt.savefig('SPN_firingChange_scatter_vgaba-61-cor+0.08.svg')\n",
    "#print(np.corrcoef(fsi_input, delta_f))\n",
    "\n",
    "\n",
    "plt.figure()\n",
    "plt.scatter(SpikeCount_list_1/time*1000, delta_f)\n",
    "plt.xlabel(r'SPN firing rate (Hz)')\n",
    "plt.ylabel('change in SPN firing rate (Hz)')\n",
    "\n",
    "plt.savefig('SPN_firingChange_scatter_vgaba-61-cor-0.66.svg')\n",
    "print(np.corrcoef(SpikeCount_list_1/time*1000, delta_f))"
   ]
  }
 ],
 "metadata": {
  "kernelspec": {
   "display_name": "Python 3",
   "language": "python",
   "name": "python3"
  },
  "language_info": {
   "codemirror_mode": {
    "name": "ipython",
    "version": 3
   },
   "file_extension": ".py",
   "mimetype": "text/x-python",
   "name": "python",
   "nbconvert_exporter": "python",
   "pygments_lexer": "ipython3",
   "version": "3.7.1"
  }
 },
 "nbformat": 4,
 "nbformat_minor": 2
}
